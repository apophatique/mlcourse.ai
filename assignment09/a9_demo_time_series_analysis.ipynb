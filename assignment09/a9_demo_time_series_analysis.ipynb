{
  "nbformat": 4,
  "nbformat_minor": 0,
  "metadata": {
    "colab": {
      "name": "a9_demo_time_series_analysis.ipynb",
      "provenance": [],
      "collapsed_sections": []
    },
    "kernelspec": {
      "display_name": "Python 3",
      "language": "python",
      "name": "python3"
    },
    "language_info": {
      "codemirror_mode": {
        "name": "ipython",
        "version": 3
      },
      "file_extension": ".py",
      "mimetype": "text/x-python",
      "name": "python",
      "nbconvert_exporter": "python",
      "pygments_lexer": "ipython3",
      "version": "3.8.5"
    },
    "widgets": {
      "application/vnd.jupyter.widget-state+json": {
        "cd1fbd5c415948d2a0d6f47017d0154d": {
          "model_module": "@jupyter-widgets/controls",
          "model_name": "HBoxModel",
          "state": {
            "_view_name": "HBoxView",
            "_dom_classes": [],
            "_model_name": "HBoxModel",
            "_view_module": "@jupyter-widgets/controls",
            "_model_module_version": "1.5.0",
            "_view_count": null,
            "_view_module_version": "1.5.0",
            "box_style": "",
            "layout": "IPY_MODEL_a824d6f44a0448d99e6abdbace1bfe32",
            "_model_module": "@jupyter-widgets/controls",
            "children": [
              "IPY_MODEL_63d40fcde58b48b0b452072f912467ae",
              "IPY_MODEL_189e492ebeeb43a5a98c83dd26fc183d"
            ]
          }
        },
        "a824d6f44a0448d99e6abdbace1bfe32": {
          "model_module": "@jupyter-widgets/base",
          "model_name": "LayoutModel",
          "state": {
            "_view_name": "LayoutView",
            "grid_template_rows": null,
            "right": null,
            "justify_content": null,
            "_view_module": "@jupyter-widgets/base",
            "overflow": null,
            "_model_module_version": "1.2.0",
            "_view_count": null,
            "flex_flow": null,
            "width": null,
            "min_width": null,
            "border": null,
            "align_items": null,
            "bottom": null,
            "_model_module": "@jupyter-widgets/base",
            "top": null,
            "grid_column": null,
            "overflow_y": null,
            "overflow_x": null,
            "grid_auto_flow": null,
            "grid_area": null,
            "grid_template_columns": null,
            "flex": null,
            "_model_name": "LayoutModel",
            "justify_items": null,
            "grid_row": null,
            "max_height": null,
            "align_content": null,
            "visibility": null,
            "align_self": null,
            "height": null,
            "min_height": null,
            "padding": null,
            "grid_auto_rows": null,
            "grid_gap": null,
            "max_width": null,
            "order": null,
            "_view_module_version": "1.2.0",
            "grid_template_areas": null,
            "object_position": null,
            "object_fit": null,
            "grid_auto_columns": null,
            "margin": null,
            "display": null,
            "left": null
          }
        },
        "63d40fcde58b48b0b452072f912467ae": {
          "model_module": "@jupyter-widgets/controls",
          "model_name": "FloatProgressModel",
          "state": {
            "_view_name": "ProgressView",
            "style": "IPY_MODEL_bc568702c48e47888dcf3eac85597181",
            "_dom_classes": [],
            "description": "100%",
            "_model_name": "FloatProgressModel",
            "bar_style": "success",
            "max": 96,
            "_view_module": "@jupyter-widgets/controls",
            "_model_module_version": "1.5.0",
            "value": 96,
            "_view_count": null,
            "_view_module_version": "1.5.0",
            "orientation": "horizontal",
            "min": 0,
            "description_tooltip": null,
            "_model_module": "@jupyter-widgets/controls",
            "layout": "IPY_MODEL_16d923416a2745a1ab56173b807470ac"
          }
        },
        "189e492ebeeb43a5a98c83dd26fc183d": {
          "model_module": "@jupyter-widgets/controls",
          "model_name": "HTMLModel",
          "state": {
            "_view_name": "HTMLView",
            "style": "IPY_MODEL_aca192404acb42f68f4a39c866bb4c8f",
            "_dom_classes": [],
            "description": "",
            "_model_name": "HTMLModel",
            "placeholder": "​",
            "_view_module": "@jupyter-widgets/controls",
            "_model_module_version": "1.5.0",
            "value": " 96/96 [00:00&lt;00:00, 2845.36it/s]",
            "_view_count": null,
            "_view_module_version": "1.5.0",
            "description_tooltip": null,
            "_model_module": "@jupyter-widgets/controls",
            "layout": "IPY_MODEL_6f3603c18fb6410baaa760e788d8a99f"
          }
        },
        "bc568702c48e47888dcf3eac85597181": {
          "model_module": "@jupyter-widgets/controls",
          "model_name": "ProgressStyleModel",
          "state": {
            "_view_name": "StyleView",
            "_model_name": "ProgressStyleModel",
            "description_width": "initial",
            "_view_module": "@jupyter-widgets/base",
            "_model_module_version": "1.5.0",
            "_view_count": null,
            "_view_module_version": "1.2.0",
            "bar_color": null,
            "_model_module": "@jupyter-widgets/controls"
          }
        },
        "16d923416a2745a1ab56173b807470ac": {
          "model_module": "@jupyter-widgets/base",
          "model_name": "LayoutModel",
          "state": {
            "_view_name": "LayoutView",
            "grid_template_rows": null,
            "right": null,
            "justify_content": null,
            "_view_module": "@jupyter-widgets/base",
            "overflow": null,
            "_model_module_version": "1.2.0",
            "_view_count": null,
            "flex_flow": null,
            "width": null,
            "min_width": null,
            "border": null,
            "align_items": null,
            "bottom": null,
            "_model_module": "@jupyter-widgets/base",
            "top": null,
            "grid_column": null,
            "overflow_y": null,
            "overflow_x": null,
            "grid_auto_flow": null,
            "grid_area": null,
            "grid_template_columns": null,
            "flex": null,
            "_model_name": "LayoutModel",
            "justify_items": null,
            "grid_row": null,
            "max_height": null,
            "align_content": null,
            "visibility": null,
            "align_self": null,
            "height": null,
            "min_height": null,
            "padding": null,
            "grid_auto_rows": null,
            "grid_gap": null,
            "max_width": null,
            "order": null,
            "_view_module_version": "1.2.0",
            "grid_template_areas": null,
            "object_position": null,
            "object_fit": null,
            "grid_auto_columns": null,
            "margin": null,
            "display": null,
            "left": null
          }
        },
        "aca192404acb42f68f4a39c866bb4c8f": {
          "model_module": "@jupyter-widgets/controls",
          "model_name": "DescriptionStyleModel",
          "state": {
            "_view_name": "StyleView",
            "_model_name": "DescriptionStyleModel",
            "description_width": "",
            "_view_module": "@jupyter-widgets/base",
            "_model_module_version": "1.5.0",
            "_view_count": null,
            "_view_module_version": "1.2.0",
            "_model_module": "@jupyter-widgets/controls"
          }
        },
        "6f3603c18fb6410baaa760e788d8a99f": {
          "model_module": "@jupyter-widgets/base",
          "model_name": "LayoutModel",
          "state": {
            "_view_name": "LayoutView",
            "grid_template_rows": null,
            "right": null,
            "justify_content": null,
            "_view_module": "@jupyter-widgets/base",
            "overflow": null,
            "_model_module_version": "1.2.0",
            "_view_count": null,
            "flex_flow": null,
            "width": null,
            "min_width": null,
            "border": null,
            "align_items": null,
            "bottom": null,
            "_model_module": "@jupyter-widgets/base",
            "top": null,
            "grid_column": null,
            "overflow_y": null,
            "overflow_x": null,
            "grid_auto_flow": null,
            "grid_area": null,
            "grid_template_columns": null,
            "flex": null,
            "_model_name": "LayoutModel",
            "justify_items": null,
            "grid_row": null,
            "max_height": null,
            "align_content": null,
            "visibility": null,
            "align_self": null,
            "height": null,
            "min_height": null,
            "padding": null,
            "grid_auto_rows": null,
            "grid_gap": null,
            "max_width": null,
            "order": null,
            "_view_module_version": "1.2.0",
            "grid_template_areas": null,
            "object_position": null,
            "object_fit": null,
            "grid_auto_columns": null,
            "margin": null,
            "display": null,
            "left": null
          }
        }
      }
    }
  },
  "cells": [
    {
      "cell_type": "markdown",
      "metadata": {
        "_uuid": "fbce1621260d04681075cab996441af2d78b2a61",
        "id": "VIMJyUzw1GDR"
      },
      "source": [
        "<center>\n",
        "<img src=\"https://habrastorage.org/files/fd4/502/43d/fd450243dd604b81b9713213a247aa20.jpg\">\n",
        "## [mlcourse.ai](https://mlcourse.ai) – Open Machine Learning Course \n",
        "<center>Author: [Mariya Mansurova](https://www.linkedin.com/in/mariya-mansurova-04070982/), analyst & developer in Yandex.Metrics team. <br>Translated by [Ivan Zakharov](https://www.linkedin.com/in/ivan-zakharov/), ML enthusiast.\n",
        "<br>All content is distributed under the [Creative Commons CC BY-NC-SA 4.0](https://creativecommons.org/licenses/by-nc-sa/4.0/) license."
      ]
    },
    {
      "cell_type": "markdown",
      "metadata": {
        "_uuid": "4de1d902f25bfc7cf48a9cff478fa45e02825438",
        "id": "TeQ5EV1K1GDW"
      },
      "source": [
        "# <center> Assignment #9 (demo)\n",
        "## <center> Time series analysis\n",
        "\n",
        "**Fill cells marked with \"Your code here\" and submit your answers to the questions through the [web form](https://docs.google.com/forms/d/1UYQ_WYSpsV3VSlZAzhSN_YXmyjV7YlTP8EYMg8M8SoM/edit).**"
      ]
    },
    {
      "cell_type": "code",
      "metadata": {
        "colab": {
          "base_uri": "https://localhost:8080/"
        },
        "id": "DZdKCKTM1W_E",
        "outputId": "e036894e-1022-489f-fb99-5608a7d86a32"
      },
      "source": [
        "from google.colab import drive\n",
        "drive.mount('/content/gdrive')\n",
        "\n"
      ],
      "execution_count": 1,
      "outputs": [
        {
          "output_type": "stream",
          "text": [
            "Mounted at /content/gdrive\n"
          ],
          "name": "stdout"
        }
      ]
    },
    {
      "cell_type": "code",
      "metadata": {
        "_uuid": "dc0785ea0c4e1a730b3bb893d15244f9ea7f0380",
        "colab": {
          "base_uri": "https://localhost:8080/",
          "height": 34
        },
        "id": "RN7csaUv1GDW",
        "outputId": "8e305b9e-ac66-47e8-c3ce-be80be9edea7"
      },
      "source": [
        "import warnings\n",
        "warnings.filterwarnings('ignore')\n",
        "import numpy as np\n",
        "import pandas as pd\n",
        "import os\n",
        "\n",
        "from plotly import __version__\n",
        "from plotly.offline import download_plotlyjs, init_notebook_mode, plot, iplot\n",
        "from plotly import graph_objs as go\n",
        "import requests\n",
        "import pandas as pd\n",
        "\n",
        "print(__version__) # need 1.9.0 or greater\n",
        "init_notebook_mode(connected = True)\n",
        "\n",
        "\n",
        "def plotly_df(df, title = ''):\n",
        "    data = []\n",
        "    \n",
        "    for column in df.columns:\n",
        "        trace = go.Scatter(\n",
        "            x = df.index,\n",
        "            y = df[column],\n",
        "            mode = 'lines',\n",
        "            name = column\n",
        "        )\n",
        "        data.append(trace)\n",
        "    \n",
        "    layout = dict(title = title)\n",
        "    fig = dict(data = data, layout = layout)\n",
        "    iplot(fig, show_link=False)"
      ],
      "execution_count": 22,
      "outputs": [
        {
          "output_type": "stream",
          "text": [
            "4.4.1\n"
          ],
          "name": "stdout"
        },
        {
          "output_type": "display_data",
          "data": {
            "text/html": [
              "        <script type=\"text/javascript\">\n",
              "        window.PlotlyConfig = {MathJaxConfig: 'local'};\n",
              "        if (window.MathJax) {MathJax.Hub.Config({SVG: {font: \"STIX-Web\"}});}\n",
              "        if (typeof require !== 'undefined') {\n",
              "        require.undef(\"plotly\");\n",
              "        requirejs.config({\n",
              "            paths: {\n",
              "                'plotly': ['https://cdn.plot.ly/plotly-latest.min']\n",
              "            }\n",
              "        });\n",
              "        require(['plotly'], function(Plotly) {\n",
              "            window._Plotly = Plotly;\n",
              "        });\n",
              "        }\n",
              "        </script>\n",
              "        "
            ]
          },
          "metadata": {
            "tags": []
          }
        }
      ]
    },
    {
      "cell_type": "markdown",
      "metadata": {
        "_uuid": "62780baf0a97bf68357bb77fed688a242f177071",
        "collapsed": true,
        "id": "CQXOdBXB1GDX"
      },
      "source": [
        "## Data preparation"
      ]
    },
    {
      "cell_type": "code",
      "metadata": {
        "_uuid": "feaf24c1990e0c978ba1c5424dfcbe5b26a6f84d",
        "colab": {
          "base_uri": "https://localhost:8080/",
          "height": 204
        },
        "id": "-tYal-gx1GDY",
        "outputId": "d3b3606d-5aa7-4c35-b81e-759c78f40d11"
      },
      "source": [
        "df = pd.read_csv('gdrive/My Drive/wiki_machine_learning.csv', sep = ' ')\n",
        "#df = pd.read_csv('../data/wiki_machine_learning.csv', sep = ' ')\n",
        "df = df[df['count'] != 0]\n",
        "df.head()"
      ],
      "execution_count": 23,
      "outputs": [
        {
          "output_type": "execute_result",
          "data": {
            "text/html": [
              "<div>\n",
              "<style scoped>\n",
              "    .dataframe tbody tr th:only-of-type {\n",
              "        vertical-align: middle;\n",
              "    }\n",
              "\n",
              "    .dataframe tbody tr th {\n",
              "        vertical-align: top;\n",
              "    }\n",
              "\n",
              "    .dataframe thead th {\n",
              "        text-align: right;\n",
              "    }\n",
              "</style>\n",
              "<table border=\"1\" class=\"dataframe\">\n",
              "  <thead>\n",
              "    <tr style=\"text-align: right;\">\n",
              "      <th></th>\n",
              "      <th>date</th>\n",
              "      <th>count</th>\n",
              "      <th>lang</th>\n",
              "      <th>page</th>\n",
              "      <th>rank</th>\n",
              "      <th>month</th>\n",
              "      <th>title</th>\n",
              "    </tr>\n",
              "  </thead>\n",
              "  <tbody>\n",
              "    <tr>\n",
              "      <th>81</th>\n",
              "      <td>2015-01-01</td>\n",
              "      <td>1414</td>\n",
              "      <td>en</td>\n",
              "      <td>Machine_learning</td>\n",
              "      <td>8708</td>\n",
              "      <td>201501</td>\n",
              "      <td>Machine_learning</td>\n",
              "    </tr>\n",
              "    <tr>\n",
              "      <th>80</th>\n",
              "      <td>2015-01-02</td>\n",
              "      <td>1920</td>\n",
              "      <td>en</td>\n",
              "      <td>Machine_learning</td>\n",
              "      <td>8708</td>\n",
              "      <td>201501</td>\n",
              "      <td>Machine_learning</td>\n",
              "    </tr>\n",
              "    <tr>\n",
              "      <th>79</th>\n",
              "      <td>2015-01-03</td>\n",
              "      <td>1338</td>\n",
              "      <td>en</td>\n",
              "      <td>Machine_learning</td>\n",
              "      <td>8708</td>\n",
              "      <td>201501</td>\n",
              "      <td>Machine_learning</td>\n",
              "    </tr>\n",
              "    <tr>\n",
              "      <th>78</th>\n",
              "      <td>2015-01-04</td>\n",
              "      <td>1404</td>\n",
              "      <td>en</td>\n",
              "      <td>Machine_learning</td>\n",
              "      <td>8708</td>\n",
              "      <td>201501</td>\n",
              "      <td>Machine_learning</td>\n",
              "    </tr>\n",
              "    <tr>\n",
              "      <th>77</th>\n",
              "      <td>2015-01-05</td>\n",
              "      <td>2264</td>\n",
              "      <td>en</td>\n",
              "      <td>Machine_learning</td>\n",
              "      <td>8708</td>\n",
              "      <td>201501</td>\n",
              "      <td>Machine_learning</td>\n",
              "    </tr>\n",
              "  </tbody>\n",
              "</table>\n",
              "</div>"
            ],
            "text/plain": [
              "          date  count lang              page  rank   month             title\n",
              "81  2015-01-01   1414   en  Machine_learning  8708  201501  Machine_learning\n",
              "80  2015-01-02   1920   en  Machine_learning  8708  201501  Machine_learning\n",
              "79  2015-01-03   1338   en  Machine_learning  8708  201501  Machine_learning\n",
              "78  2015-01-04   1404   en  Machine_learning  8708  201501  Machine_learning\n",
              "77  2015-01-05   2264   en  Machine_learning  8708  201501  Machine_learning"
            ]
          },
          "metadata": {
            "tags": []
          },
          "execution_count": 23
        }
      ]
    },
    {
      "cell_type": "code",
      "metadata": {
        "_uuid": "5dd80a3e85bafe3a78ea04448f9936cdf5f23336",
        "colab": {
          "base_uri": "https://localhost:8080/"
        },
        "id": "4cwj8Bka1GDY",
        "outputId": "95f1b508-ff0d-4473-a8ae-7c24c4ac66fd"
      },
      "source": [
        "df.shape"
      ],
      "execution_count": 24,
      "outputs": [
        {
          "output_type": "execute_result",
          "data": {
            "text/plain": [
              "(383, 7)"
            ]
          },
          "metadata": {
            "tags": []
          },
          "execution_count": 24
        }
      ]
    },
    {
      "cell_type": "markdown",
      "metadata": {
        "_uuid": "cb1438736476dbde10a1200b8f1572570ab96b35",
        "id": "zM9s6rGk1GDY"
      },
      "source": [
        "## Predicting with FB Prophet\n",
        "We will train at first 5 months and predict the number of trips for June."
      ]
    },
    {
      "cell_type": "code",
      "metadata": {
        "_uuid": "394407becbadeeb54d5c5147d8d397a3267b525f",
        "id": "VUk6n-_q1GDY"
      },
      "source": [
        "df.date = pd.to_datetime(df.date)"
      ],
      "execution_count": 25,
      "outputs": []
    },
    {
      "cell_type": "code",
      "metadata": {
        "_uuid": "83c67f1d3530013b519353c50182b2439015caa1",
        "colab": {
          "base_uri": "https://localhost:8080/",
          "height": 542
        },
        "id": "nnZmpwlK1GDZ",
        "outputId": "2520c0c7-2858-40d3-c4e8-fe5ecaa2debe"
      },
      "source": [
        "plotly_df(df.set_index('date')[['count']])"
      ],
      "execution_count": 26,
      "outputs": [
        {
          "output_type": "display_data",
          "data": {
            "text/html": [
              "<div>\n",
              "        \n",
              "        \n",
              "            <div id=\"506d6ef8-db46-429e-a3db-dce084428d85\" class=\"plotly-graph-div\" style=\"height:525px; width:100%;\"></div>\n",
              "            <script type=\"text/javascript\">\n",
              "                require([\"plotly\"], function(Plotly) {\n",
              "                    window.PLOTLYENV=window.PLOTLYENV || {};\n",
              "                    \n",
              "                if (document.getElementById(\"506d6ef8-db46-429e-a3db-dce084428d85\")) {\n",
              "                    Plotly.newPlot(\n",
              "                        '506d6ef8-db46-429e-a3db-dce084428d85',\n",
              "                        [{\"mode\": \"lines\", \"name\": \"count\", \"type\": \"scatter\", \"x\": [\"2015-01-01T00:00:00\", \"2015-01-02T00:00:00\", \"2015-01-03T00:00:00\", \"2015-01-04T00:00:00\", \"2015-01-05T00:00:00\", \"2015-01-06T00:00:00\", \"2015-01-07T00:00:00\", \"2015-01-08T00:00:00\", \"2015-01-09T00:00:00\", \"2015-01-10T00:00:00\", \"2015-01-11T00:00:00\", \"2015-01-12T00:00:00\", \"2015-01-13T00:00:00\", \"2015-01-14T00:00:00\", \"2015-01-15T00:00:00\", \"2015-01-16T00:00:00\", \"2015-01-17T00:00:00\", \"2015-01-18T00:00:00\", \"2015-01-19T00:00:00\", \"2015-01-20T00:00:00\", \"2015-01-21T00:00:00\", \"2015-01-22T00:00:00\", \"2015-01-23T00:00:00\", \"2015-01-24T00:00:00\", \"2015-01-25T00:00:00\", \"2015-01-26T00:00:00\", \"2015-01-27T00:00:00\", \"2015-01-28T00:00:00\", \"2015-01-29T00:00:00\", \"2015-01-30T00:00:00\", \"2015-01-31T00:00:00\", \"2015-02-01T00:00:00\", \"2015-02-02T00:00:00\", \"2015-02-03T00:00:00\", \"2015-02-04T00:00:00\", \"2015-02-06T00:00:00\", \"2015-02-07T00:00:00\", \"2015-02-08T00:00:00\", \"2015-02-09T00:00:00\", \"2015-02-10T00:00:00\", \"2015-02-11T00:00:00\", \"2015-02-12T00:00:00\", \"2015-02-13T00:00:00\", \"2015-02-14T00:00:00\", \"2015-02-15T00:00:00\", \"2015-02-16T00:00:00\", \"2015-02-17T00:00:00\", \"2015-02-18T00:00:00\", \"2015-02-19T00:00:00\", \"2015-02-20T00:00:00\", \"2015-02-21T00:00:00\", \"2015-02-22T00:00:00\", \"2015-02-23T00:00:00\", \"2015-02-24T00:00:00\", \"2015-02-25T00:00:00\", \"2015-02-26T00:00:00\", \"2015-02-27T00:00:00\", \"2015-02-28T00:00:00\", \"2015-03-01T00:00:00\", \"2015-03-02T00:00:00\", \"2015-03-03T00:00:00\", \"2015-03-04T00:00:00\", \"2015-03-05T00:00:00\", \"2015-03-06T00:00:00\", \"2015-03-07T00:00:00\", \"2015-03-08T00:00:00\", \"2015-03-09T00:00:00\", \"2015-03-10T00:00:00\", \"2015-03-11T00:00:00\", \"2015-03-12T00:00:00\", \"2015-03-13T00:00:00\", \"2015-03-14T00:00:00\", \"2015-03-15T00:00:00\", \"2015-03-16T00:00:00\", \"2015-03-17T00:00:00\", \"2015-03-18T00:00:00\", \"2015-03-19T00:00:00\", \"2015-03-20T00:00:00\", \"2015-03-21T00:00:00\", \"2015-03-22T00:00:00\", \"2015-03-23T00:00:00\", \"2015-03-24T00:00:00\", \"2015-03-25T00:00:00\", \"2015-03-26T00:00:00\", \"2015-03-27T00:00:00\", \"2015-03-28T00:00:00\", \"2015-03-29T00:00:00\", \"2015-03-30T00:00:00\", \"2015-03-31T00:00:00\", \"2015-04-01T00:00:00\", \"2015-04-02T00:00:00\", \"2015-04-03T00:00:00\", \"2015-04-04T00:00:00\", \"2015-04-05T00:00:00\", \"2015-04-06T00:00:00\", \"2015-04-07T00:00:00\", \"2015-04-08T00:00:00\", \"2015-04-09T00:00:00\", \"2015-04-10T00:00:00\", \"2015-04-11T00:00:00\", \"2015-04-12T00:00:00\", \"2015-04-13T00:00:00\", \"2015-04-14T00:00:00\", \"2015-04-15T00:00:00\", \"2015-04-16T00:00:00\", \"2015-04-17T00:00:00\", \"2015-04-18T00:00:00\", \"2015-04-19T00:00:00\", \"2015-04-20T00:00:00\", \"2015-04-21T00:00:00\", \"2015-04-22T00:00:00\", \"2015-04-23T00:00:00\", \"2015-04-24T00:00:00\", \"2015-04-25T00:00:00\", \"2015-04-26T00:00:00\", \"2015-04-27T00:00:00\", \"2015-04-28T00:00:00\", \"2015-04-29T00:00:00\", \"2015-04-30T00:00:00\", \"2015-05-01T00:00:00\", \"2015-05-02T00:00:00\", \"2015-05-03T00:00:00\", \"2015-05-04T00:00:00\", \"2015-05-05T00:00:00\", \"2015-05-06T00:00:00\", \"2015-05-07T00:00:00\", \"2015-05-08T00:00:00\", \"2015-05-09T00:00:00\", \"2015-05-10T00:00:00\", \"2015-05-11T00:00:00\", \"2015-05-12T00:00:00\", \"2015-05-13T00:00:00\", \"2015-05-14T00:00:00\", \"2015-05-15T00:00:00\", \"2015-05-16T00:00:00\", \"2015-05-17T00:00:00\", \"2015-05-18T00:00:00\", \"2015-05-19T00:00:00\", \"2015-05-20T00:00:00\", \"2015-05-21T00:00:00\", \"2015-05-22T00:00:00\", \"2015-05-23T00:00:00\", \"2015-05-24T00:00:00\", \"2015-05-25T00:00:00\", \"2015-05-26T00:00:00\", \"2015-05-27T00:00:00\", \"2015-05-28T00:00:00\", \"2015-05-29T00:00:00\", \"2015-05-30T00:00:00\", \"2015-05-31T00:00:00\", \"2015-06-01T00:00:00\", \"2015-06-02T00:00:00\", \"2015-06-03T00:00:00\", \"2015-06-04T00:00:00\", \"2015-06-05T00:00:00\", \"2015-06-06T00:00:00\", \"2015-06-07T00:00:00\", \"2015-06-08T00:00:00\", \"2015-06-09T00:00:00\", \"2015-06-10T00:00:00\", \"2015-06-11T00:00:00\", \"2015-06-12T00:00:00\", \"2015-06-13T00:00:00\", \"2015-06-14T00:00:00\", \"2015-06-15T00:00:00\", \"2015-06-16T00:00:00\", \"2015-06-17T00:00:00\", \"2015-06-18T00:00:00\", \"2015-06-19T00:00:00\", \"2015-06-20T00:00:00\", \"2015-06-21T00:00:00\", \"2015-06-22T00:00:00\", \"2015-06-23T00:00:00\", \"2015-06-24T00:00:00\", \"2015-06-25T00:00:00\", \"2015-06-26T00:00:00\", \"2015-06-27T00:00:00\", \"2015-06-28T00:00:00\", \"2015-06-29T00:00:00\", \"2015-06-30T00:00:00\", \"2015-07-01T00:00:00\", \"2015-07-02T00:00:00\", \"2015-07-03T00:00:00\", \"2015-07-04T00:00:00\", \"2015-07-05T00:00:00\", \"2015-07-06T00:00:00\", \"2015-07-07T00:00:00\", \"2015-07-08T00:00:00\", \"2015-07-09T00:00:00\", \"2015-07-10T00:00:00\", \"2015-07-11T00:00:00\", \"2015-07-12T00:00:00\", \"2015-07-13T00:00:00\", \"2015-07-14T00:00:00\", \"2015-07-15T00:00:00\", \"2015-07-16T00:00:00\", \"2015-07-17T00:00:00\", \"2015-07-18T00:00:00\", \"2015-07-19T00:00:00\", \"2015-07-20T00:00:00\", \"2015-07-21T00:00:00\", \"2015-07-22T00:00:00\", \"2015-07-23T00:00:00\", \"2015-07-24T00:00:00\", \"2015-07-25T00:00:00\", \"2015-07-26T00:00:00\", \"2015-07-27T00:00:00\", \"2015-07-28T00:00:00\", \"2015-07-29T00:00:00\", \"2015-07-30T00:00:00\", \"2015-07-31T00:00:00\", \"2015-08-01T00:00:00\", \"2015-08-02T00:00:00\", \"2015-08-03T00:00:00\", \"2015-08-04T00:00:00\", \"2015-08-05T00:00:00\", \"2015-08-06T00:00:00\", \"2015-08-07T00:00:00\", \"2015-08-08T00:00:00\", \"2015-08-09T00:00:00\", \"2015-08-10T00:00:00\", \"2015-08-11T00:00:00\", \"2015-08-12T00:00:00\", \"2015-08-13T00:00:00\", \"2015-08-14T00:00:00\", \"2015-08-15T00:00:00\", \"2015-08-16T00:00:00\", \"2015-08-17T00:00:00\", \"2015-08-18T00:00:00\", \"2015-08-19T00:00:00\", \"2015-08-20T00:00:00\", \"2015-08-21T00:00:00\", \"2015-08-22T00:00:00\", \"2015-08-23T00:00:00\", \"2015-08-24T00:00:00\", \"2015-08-25T00:00:00\", \"2015-08-26T00:00:00\", \"2015-08-27T00:00:00\", \"2015-08-28T00:00:00\", \"2015-08-29T00:00:00\", \"2015-08-30T00:00:00\", \"2015-08-31T00:00:00\", \"2015-09-01T00:00:00\", \"2015-09-02T00:00:00\", \"2015-09-03T00:00:00\", \"2015-09-04T00:00:00\", \"2015-09-05T00:00:00\", \"2015-09-06T00:00:00\", \"2015-09-07T00:00:00\", \"2015-09-08T00:00:00\", \"2015-09-09T00:00:00\", \"2015-09-10T00:00:00\", \"2015-09-11T00:00:00\", \"2015-09-12T00:00:00\", \"2015-09-13T00:00:00\", \"2015-09-14T00:00:00\", \"2015-09-15T00:00:00\", \"2015-09-16T00:00:00\", \"2015-09-17T00:00:00\", \"2015-09-18T00:00:00\", \"2015-09-19T00:00:00\", \"2015-09-20T00:00:00\", \"2015-09-21T00:00:00\", \"2015-09-22T00:00:00\", \"2015-09-23T00:00:00\", \"2015-09-24T00:00:00\", \"2015-09-25T00:00:00\", \"2015-09-26T00:00:00\", \"2015-09-27T00:00:00\", \"2015-09-28T00:00:00\", \"2015-09-29T00:00:00\", \"2015-09-30T00:00:00\", \"2015-10-01T00:00:00\", \"2015-10-02T00:00:00\", \"2015-10-03T00:00:00\", \"2015-10-04T00:00:00\", \"2015-10-05T00:00:00\", \"2015-10-06T00:00:00\", \"2015-10-07T00:00:00\", \"2015-10-08T00:00:00\", \"2015-10-09T00:00:00\", \"2015-10-10T00:00:00\", \"2015-10-11T00:00:00\", \"2015-10-13T00:00:00\", \"2015-10-14T00:00:00\", \"2015-10-15T00:00:00\", \"2015-10-16T00:00:00\", \"2015-10-17T00:00:00\", \"2015-10-18T00:00:00\", \"2015-10-19T00:00:00\", \"2015-10-20T00:00:00\", \"2015-10-21T00:00:00\", \"2015-10-22T00:00:00\", \"2015-10-23T00:00:00\", \"2015-10-24T00:00:00\", \"2015-10-25T00:00:00\", \"2015-10-26T00:00:00\", \"2015-10-27T00:00:00\", \"2015-10-28T00:00:00\", \"2015-10-29T00:00:00\", \"2015-10-30T00:00:00\", \"2015-10-31T00:00:00\", \"2015-11-01T00:00:00\", \"2015-11-02T00:00:00\", \"2015-11-03T00:00:00\", \"2015-11-04T00:00:00\", \"2015-11-05T00:00:00\", \"2015-11-06T00:00:00\", \"2015-11-07T00:00:00\", \"2015-11-08T00:00:00\", \"2015-11-09T00:00:00\", \"2015-11-10T00:00:00\", \"2015-11-11T00:00:00\", \"2015-11-12T00:00:00\", \"2015-11-13T00:00:00\", \"2015-11-14T00:00:00\", \"2015-11-15T00:00:00\", \"2015-11-16T00:00:00\", \"2015-11-17T00:00:00\", \"2015-11-18T00:00:00\", \"2015-11-19T00:00:00\", \"2015-11-20T00:00:00\", \"2015-11-21T00:00:00\", \"2015-11-22T00:00:00\", \"2015-11-23T00:00:00\", \"2015-11-24T00:00:00\", \"2015-11-25T00:00:00\", \"2015-11-26T00:00:00\", \"2015-11-27T00:00:00\", \"2015-11-28T00:00:00\", \"2015-11-29T00:00:00\", \"2015-11-30T00:00:00\", \"2015-12-01T00:00:00\", \"2015-12-02T00:00:00\", \"2015-12-03T00:00:00\", \"2015-12-04T00:00:00\", \"2015-12-05T00:00:00\", \"2015-12-06T00:00:00\", \"2015-12-07T00:00:00\", \"2015-12-08T00:00:00\", \"2015-12-09T00:00:00\", \"2015-12-10T00:00:00\", \"2015-12-11T00:00:00\", \"2015-12-12T00:00:00\", \"2015-12-13T00:00:00\", \"2015-12-14T00:00:00\", \"2015-12-15T00:00:00\", \"2015-12-16T00:00:00\", \"2015-12-17T00:00:00\", \"2015-12-18T00:00:00\", \"2015-12-19T00:00:00\", \"2015-12-20T00:00:00\", \"2015-12-21T00:00:00\", \"2015-12-22T00:00:00\", \"2015-12-23T00:00:00\", \"2015-12-24T00:00:00\", \"2015-12-25T00:00:00\", \"2015-12-26T00:00:00\", \"2015-12-27T00:00:00\", \"2015-12-28T00:00:00\", \"2015-12-29T00:00:00\", \"2015-12-30T00:00:00\", \"2015-12-31T00:00:00\", \"2016-01-01T00:00:00\", \"2016-01-02T00:00:00\", \"2016-01-03T00:00:00\", \"2016-01-04T00:00:00\", \"2016-01-05T00:00:00\", \"2016-01-06T00:00:00\", \"2016-01-07T00:00:00\", \"2016-01-08T00:00:00\", \"2016-01-09T00:00:00\", \"2016-01-10T00:00:00\", \"2016-01-11T00:00:00\", \"2016-01-12T00:00:00\", \"2016-01-13T00:00:00\", \"2016-01-14T00:00:00\", \"2016-01-15T00:00:00\", \"2016-01-16T00:00:00\", \"2016-01-17T00:00:00\", \"2016-01-18T00:00:00\", \"2016-01-19T00:00:00\", \"2016-01-20T00:00:00\"], \"y\": [1414, 1920, 1338, 1404, 2264, 2327, 2469, 2349, 2279, 1600, 1539, 2581, 2678, 2584, 2485, 2336, 1384, 1556, 2612, 2860, 2571, 2697, 2232, 1280, 1690, 2501, 2680, 2737, 2671, 2261, 1125, 1486, 2580, 2630, 2685, 2395, 1679, 1691, 2617, 3047, 2530, 2485, 2393, 1333, 1356, 2236, 2312, 2386, 2402, 2253, 1638, 1614, 2592, 2747, 2633, 2606, 2351, 1645, 1688, 2792, 2857, 2659, 2566, 2214, 1432, 2004, 2668, 2576, 2670, 2565, 2399, 1651, 1732, 2612, 4848, 2608, 2505, 2302, 1565, 1760, 2895, 2877, 2757, 2492, 2527, 1578, 1660, 2666, 2809, 2412, 2403, 1849, 1422, 1508, 2518, 3174, 2800, 2929, 2702, 1722, 2002, 3428, 4881, 2804, 3217, 2384, 1482, 1816, 2659, 2819, 2994, 2811, 2370, 1487, 1696, 2526, 2782, 2799, 2543, 2236, 1670, 1794, 2802, 2840, 2757, 3005, 2714, 1486, 1697, 2718, 2837, 2908, 4932, 2813, 1634, 1725, 2870, 2832, 2864, 2681, 2393, 1390, 1618, 2086, 2699, 2711, 2649, 2277, 1576, 1724, 2713, 2808, 2720, 2742, 2467, 1582, 1697, 2703, 2765, 2833, 2911, 2464, 1435, 1599, 2069, 1769, 1569, 1418, 1294, 729, 726, 1312, 1827, 2068, 2056, 2049, 1252, 1353, 2474, 2682, 2553, 2275, 1744, 1113, 1247, 2450, 2566, 2442, 2413, 2106, 1274, 1423, 2416, 2618, 2802, 2357, 2032, 1191, 1258, 2574, 2566, 2405, 2245, 2035, 1364, 1385, 2429, 2653, 2592, 2487, 2183, 1345, 1322, 1897, 2381, 2453, 2268, 2011, 1265, 1332, 2098, 2559, 2392, 2526, 1940, 1234, 1539, 2347, 2528, 2604, 2332, 2162, 1196, 1420, 2428, 2560, 2349, 2377, 2206, 1177, 1485, 2545, 2606, 2888, 2820, 2236, 1293, 1459, 2172, 2788, 3044, 2770, 2434, 1531, 1534, 2985, 3042, 2331, 2641, 2369, 1493, 1591, 2777, 2778, 2686, 2545, 2206, 1528, 1559, 2642, 2774, 2916, 2542, 2331, 1547, 1561, 2696, 3209, 2971, 3318, 3000, 1821, 1692, 2932, 2895, 2985, 2703, 1783, 1982, 2971, 3063, 2837, 2570, 2635, 1613, 1835, 3183, 3177, 3395, 3143, 2631, 1575, 1786, 2707, 3546, 3974, 2837, 2820, 1654, 1805, 3203, 3551, 3267, 3484, 2990, 1770, 1952, 3115, 3341, 3202, 3094, 2743, 1716, 1850, 3032, 3090, 2989, 2652, 2149, 1576, 1950, 3219, 3185, 3515, 3045, 2802, 1703, 2045, 3259, 3198, 3205, 3144, 2826, 1897, 2041, 3121, 3229, 3967, 2870, 2475, 1659, 1534, 2425, 2469, 2292, 1671, 1227, 1367, 1373, 2181, 2162, 2107, 1590, 1159, 1704, 1724, 3180, 3180, 3186, 3055, 2874, 1674, 1873, 3083, 3319, 3145, 3164, 2743, 1644, 1836, 2983, 3389, 3559]}],\n",
              "                        {\"template\": {\"data\": {\"bar\": [{\"error_x\": {\"color\": \"#2a3f5f\"}, \"error_y\": {\"color\": \"#2a3f5f\"}, \"marker\": {\"line\": {\"color\": \"#E5ECF6\", \"width\": 0.5}}, \"type\": \"bar\"}], \"barpolar\": [{\"marker\": {\"line\": {\"color\": \"#E5ECF6\", \"width\": 0.5}}, \"type\": \"barpolar\"}], \"carpet\": [{\"aaxis\": {\"endlinecolor\": \"#2a3f5f\", \"gridcolor\": \"white\", \"linecolor\": \"white\", \"minorgridcolor\": \"white\", \"startlinecolor\": \"#2a3f5f\"}, \"baxis\": {\"endlinecolor\": \"#2a3f5f\", \"gridcolor\": \"white\", \"linecolor\": \"white\", \"minorgridcolor\": \"white\", \"startlinecolor\": \"#2a3f5f\"}, \"type\": \"carpet\"}], \"choropleth\": [{\"colorbar\": {\"outlinewidth\": 0, \"ticks\": \"\"}, \"type\": \"choropleth\"}], \"contour\": [{\"colorbar\": {\"outlinewidth\": 0, \"ticks\": \"\"}, \"colorscale\": [[0.0, \"#0d0887\"], [0.1111111111111111, \"#46039f\"], [0.2222222222222222, \"#7201a8\"], [0.3333333333333333, \"#9c179e\"], [0.4444444444444444, \"#bd3786\"], [0.5555555555555556, \"#d8576b\"], [0.6666666666666666, \"#ed7953\"], [0.7777777777777778, \"#fb9f3a\"], [0.8888888888888888, \"#fdca26\"], [1.0, \"#f0f921\"]], \"type\": \"contour\"}], \"contourcarpet\": [{\"colorbar\": {\"outlinewidth\": 0, \"ticks\": \"\"}, \"type\": \"contourcarpet\"}], \"heatmap\": [{\"colorbar\": {\"outlinewidth\": 0, \"ticks\": \"\"}, \"colorscale\": [[0.0, \"#0d0887\"], [0.1111111111111111, \"#46039f\"], [0.2222222222222222, \"#7201a8\"], [0.3333333333333333, \"#9c179e\"], [0.4444444444444444, \"#bd3786\"], [0.5555555555555556, \"#d8576b\"], [0.6666666666666666, \"#ed7953\"], [0.7777777777777778, \"#fb9f3a\"], [0.8888888888888888, \"#fdca26\"], [1.0, \"#f0f921\"]], \"type\": \"heatmap\"}], \"heatmapgl\": [{\"colorbar\": {\"outlinewidth\": 0, \"ticks\": \"\"}, \"colorscale\": [[0.0, \"#0d0887\"], [0.1111111111111111, \"#46039f\"], [0.2222222222222222, \"#7201a8\"], [0.3333333333333333, \"#9c179e\"], [0.4444444444444444, \"#bd3786\"], [0.5555555555555556, \"#d8576b\"], [0.6666666666666666, \"#ed7953\"], [0.7777777777777778, \"#fb9f3a\"], [0.8888888888888888, \"#fdca26\"], [1.0, \"#f0f921\"]], \"type\": \"heatmapgl\"}], \"histogram\": [{\"marker\": {\"colorbar\": {\"outlinewidth\": 0, \"ticks\": \"\"}}, \"type\": \"histogram\"}], \"histogram2d\": [{\"colorbar\": {\"outlinewidth\": 0, \"ticks\": \"\"}, \"colorscale\": [[0.0, \"#0d0887\"], [0.1111111111111111, \"#46039f\"], [0.2222222222222222, \"#7201a8\"], [0.3333333333333333, \"#9c179e\"], [0.4444444444444444, \"#bd3786\"], [0.5555555555555556, \"#d8576b\"], [0.6666666666666666, \"#ed7953\"], [0.7777777777777778, \"#fb9f3a\"], [0.8888888888888888, \"#fdca26\"], [1.0, \"#f0f921\"]], \"type\": \"histogram2d\"}], \"histogram2dcontour\": [{\"colorbar\": {\"outlinewidth\": 0, \"ticks\": \"\"}, \"colorscale\": [[0.0, \"#0d0887\"], [0.1111111111111111, \"#46039f\"], [0.2222222222222222, \"#7201a8\"], [0.3333333333333333, \"#9c179e\"], [0.4444444444444444, \"#bd3786\"], [0.5555555555555556, \"#d8576b\"], [0.6666666666666666, \"#ed7953\"], [0.7777777777777778, \"#fb9f3a\"], [0.8888888888888888, \"#fdca26\"], [1.0, \"#f0f921\"]], \"type\": \"histogram2dcontour\"}], \"mesh3d\": [{\"colorbar\": {\"outlinewidth\": 0, \"ticks\": \"\"}, \"type\": \"mesh3d\"}], \"parcoords\": [{\"line\": {\"colorbar\": {\"outlinewidth\": 0, \"ticks\": \"\"}}, \"type\": \"parcoords\"}], \"pie\": [{\"automargin\": true, \"type\": \"pie\"}], \"scatter\": [{\"marker\": {\"colorbar\": {\"outlinewidth\": 0, \"ticks\": \"\"}}, \"type\": \"scatter\"}], \"scatter3d\": [{\"line\": {\"colorbar\": {\"outlinewidth\": 0, \"ticks\": \"\"}}, \"marker\": {\"colorbar\": {\"outlinewidth\": 0, \"ticks\": \"\"}}, \"type\": \"scatter3d\"}], \"scattercarpet\": [{\"marker\": {\"colorbar\": {\"outlinewidth\": 0, \"ticks\": \"\"}}, \"type\": \"scattercarpet\"}], \"scattergeo\": [{\"marker\": {\"colorbar\": {\"outlinewidth\": 0, \"ticks\": \"\"}}, \"type\": \"scattergeo\"}], \"scattergl\": [{\"marker\": {\"colorbar\": {\"outlinewidth\": 0, \"ticks\": \"\"}}, \"type\": \"scattergl\"}], \"scattermapbox\": [{\"marker\": {\"colorbar\": {\"outlinewidth\": 0, \"ticks\": \"\"}}, \"type\": \"scattermapbox\"}], \"scatterpolar\": [{\"marker\": {\"colorbar\": {\"outlinewidth\": 0, \"ticks\": \"\"}}, \"type\": \"scatterpolar\"}], \"scatterpolargl\": [{\"marker\": {\"colorbar\": {\"outlinewidth\": 0, \"ticks\": \"\"}}, \"type\": \"scatterpolargl\"}], \"scatterternary\": [{\"marker\": {\"colorbar\": {\"outlinewidth\": 0, \"ticks\": \"\"}}, \"type\": \"scatterternary\"}], \"surface\": [{\"colorbar\": {\"outlinewidth\": 0, \"ticks\": \"\"}, \"colorscale\": [[0.0, \"#0d0887\"], [0.1111111111111111, \"#46039f\"], [0.2222222222222222, \"#7201a8\"], [0.3333333333333333, \"#9c179e\"], [0.4444444444444444, \"#bd3786\"], [0.5555555555555556, \"#d8576b\"], [0.6666666666666666, \"#ed7953\"], [0.7777777777777778, \"#fb9f3a\"], [0.8888888888888888, \"#fdca26\"], [1.0, \"#f0f921\"]], \"type\": \"surface\"}], \"table\": [{\"cells\": {\"fill\": {\"color\": \"#EBF0F8\"}, \"line\": {\"color\": \"white\"}}, \"header\": {\"fill\": {\"color\": \"#C8D4E3\"}, \"line\": {\"color\": \"white\"}}, \"type\": \"table\"}]}, \"layout\": {\"annotationdefaults\": {\"arrowcolor\": \"#2a3f5f\", \"arrowhead\": 0, \"arrowwidth\": 1}, \"coloraxis\": {\"colorbar\": {\"outlinewidth\": 0, \"ticks\": \"\"}}, \"colorscale\": {\"diverging\": [[0, \"#8e0152\"], [0.1, \"#c51b7d\"], [0.2, \"#de77ae\"], [0.3, \"#f1b6da\"], [0.4, \"#fde0ef\"], [0.5, \"#f7f7f7\"], [0.6, \"#e6f5d0\"], [0.7, \"#b8e186\"], [0.8, \"#7fbc41\"], [0.9, \"#4d9221\"], [1, \"#276419\"]], \"sequential\": [[0.0, \"#0d0887\"], [0.1111111111111111, \"#46039f\"], [0.2222222222222222, \"#7201a8\"], [0.3333333333333333, \"#9c179e\"], [0.4444444444444444, \"#bd3786\"], [0.5555555555555556, \"#d8576b\"], [0.6666666666666666, \"#ed7953\"], [0.7777777777777778, \"#fb9f3a\"], [0.8888888888888888, \"#fdca26\"], [1.0, \"#f0f921\"]], \"sequentialminus\": [[0.0, \"#0d0887\"], [0.1111111111111111, \"#46039f\"], [0.2222222222222222, \"#7201a8\"], [0.3333333333333333, \"#9c179e\"], [0.4444444444444444, \"#bd3786\"], [0.5555555555555556, \"#d8576b\"], [0.6666666666666666, \"#ed7953\"], [0.7777777777777778, \"#fb9f3a\"], [0.8888888888888888, \"#fdca26\"], [1.0, \"#f0f921\"]]}, \"colorway\": [\"#636efa\", \"#EF553B\", \"#00cc96\", \"#ab63fa\", \"#FFA15A\", \"#19d3f3\", \"#FF6692\", \"#B6E880\", \"#FF97FF\", \"#FECB52\"], \"font\": {\"color\": \"#2a3f5f\"}, \"geo\": {\"bgcolor\": \"white\", \"lakecolor\": \"white\", \"landcolor\": \"#E5ECF6\", \"showlakes\": true, \"showland\": true, \"subunitcolor\": \"white\"}, \"hoverlabel\": {\"align\": \"left\"}, \"hovermode\": \"closest\", \"mapbox\": {\"style\": \"light\"}, \"paper_bgcolor\": \"white\", \"plot_bgcolor\": \"#E5ECF6\", \"polar\": {\"angularaxis\": {\"gridcolor\": \"white\", \"linecolor\": \"white\", \"ticks\": \"\"}, \"bgcolor\": \"#E5ECF6\", \"radialaxis\": {\"gridcolor\": \"white\", \"linecolor\": \"white\", \"ticks\": \"\"}}, \"scene\": {\"xaxis\": {\"backgroundcolor\": \"#E5ECF6\", \"gridcolor\": \"white\", \"gridwidth\": 2, \"linecolor\": \"white\", \"showbackground\": true, \"ticks\": \"\", \"zerolinecolor\": \"white\"}, \"yaxis\": {\"backgroundcolor\": \"#E5ECF6\", \"gridcolor\": \"white\", \"gridwidth\": 2, \"linecolor\": \"white\", \"showbackground\": true, \"ticks\": \"\", \"zerolinecolor\": \"white\"}, \"zaxis\": {\"backgroundcolor\": \"#E5ECF6\", \"gridcolor\": \"white\", \"gridwidth\": 2, \"linecolor\": \"white\", \"showbackground\": true, \"ticks\": \"\", \"zerolinecolor\": \"white\"}}, \"shapedefaults\": {\"line\": {\"color\": \"#2a3f5f\"}}, \"ternary\": {\"aaxis\": {\"gridcolor\": \"white\", \"linecolor\": \"white\", \"ticks\": \"\"}, \"baxis\": {\"gridcolor\": \"white\", \"linecolor\": \"white\", \"ticks\": \"\"}, \"bgcolor\": \"#E5ECF6\", \"caxis\": {\"gridcolor\": \"white\", \"linecolor\": \"white\", \"ticks\": \"\"}}, \"title\": {\"x\": 0.05}, \"xaxis\": {\"automargin\": true, \"gridcolor\": \"white\", \"linecolor\": \"white\", \"ticks\": \"\", \"title\": {\"standoff\": 15}, \"zerolinecolor\": \"white\", \"zerolinewidth\": 2}, \"yaxis\": {\"automargin\": true, \"gridcolor\": \"white\", \"linecolor\": \"white\", \"ticks\": \"\", \"title\": {\"standoff\": 15}, \"zerolinecolor\": \"white\", \"zerolinewidth\": 2}}}, \"title\": {\"text\": \"\"}},\n",
              "                        {\"responsive\": true}\n",
              "                    ).then(function(){\n",
              "                            \n",
              "var gd = document.getElementById('506d6ef8-db46-429e-a3db-dce084428d85');\n",
              "var x = new MutationObserver(function (mutations, observer) {{\n",
              "        var display = window.getComputedStyle(gd).display;\n",
              "        if (!display || display === 'none') {{\n",
              "            console.log([gd, 'removed!']);\n",
              "            Plotly.purge(gd);\n",
              "            observer.disconnect();\n",
              "        }}\n",
              "}});\n",
              "\n",
              "// Listen for the removal of the full notebook cells\n",
              "var notebookContainer = gd.closest('#notebook-container');\n",
              "if (notebookContainer) {{\n",
              "    x.observe(notebookContainer, {childList: true});\n",
              "}}\n",
              "\n",
              "// Listen for the clearing of the current output cell\n",
              "var outputEl = gd.closest('.output');\n",
              "if (outputEl) {{\n",
              "    x.observe(outputEl, {childList: true});\n",
              "}}\n",
              "\n",
              "                        })\n",
              "                };\n",
              "                });\n",
              "            </script>\n",
              "        </div>"
            ],
            "application/vnd.plotly.v1+json": {
              "data": [
                {
                  "y": [
                    1414,
                    1920,
                    1338,
                    1404,
                    2264,
                    2327,
                    2469,
                    2349,
                    2279,
                    1600,
                    1539,
                    2581,
                    2678,
                    2584,
                    2485,
                    2336,
                    1384,
                    1556,
                    2612,
                    2860,
                    2571,
                    2697,
                    2232,
                    1280,
                    1690,
                    2501,
                    2680,
                    2737,
                    2671,
                    2261,
                    1125,
                    1486,
                    2580,
                    2630,
                    2685,
                    2395,
                    1679,
                    1691,
                    2617,
                    3047,
                    2530,
                    2485,
                    2393,
                    1333,
                    1356,
                    2236,
                    2312,
                    2386,
                    2402,
                    2253,
                    1638,
                    1614,
                    2592,
                    2747,
                    2633,
                    2606,
                    2351,
                    1645,
                    1688,
                    2792,
                    2857,
                    2659,
                    2566,
                    2214,
                    1432,
                    2004,
                    2668,
                    2576,
                    2670,
                    2565,
                    2399,
                    1651,
                    1732,
                    2612,
                    4848,
                    2608,
                    2505,
                    2302,
                    1565,
                    1760,
                    2895,
                    2877,
                    2757,
                    2492,
                    2527,
                    1578,
                    1660,
                    2666,
                    2809,
                    2412,
                    2403,
                    1849,
                    1422,
                    1508,
                    2518,
                    3174,
                    2800,
                    2929,
                    2702,
                    1722,
                    2002,
                    3428,
                    4881,
                    2804,
                    3217,
                    2384,
                    1482,
                    1816,
                    2659,
                    2819,
                    2994,
                    2811,
                    2370,
                    1487,
                    1696,
                    2526,
                    2782,
                    2799,
                    2543,
                    2236,
                    1670,
                    1794,
                    2802,
                    2840,
                    2757,
                    3005,
                    2714,
                    1486,
                    1697,
                    2718,
                    2837,
                    2908,
                    4932,
                    2813,
                    1634,
                    1725,
                    2870,
                    2832,
                    2864,
                    2681,
                    2393,
                    1390,
                    1618,
                    2086,
                    2699,
                    2711,
                    2649,
                    2277,
                    1576,
                    1724,
                    2713,
                    2808,
                    2720,
                    2742,
                    2467,
                    1582,
                    1697,
                    2703,
                    2765,
                    2833,
                    2911,
                    2464,
                    1435,
                    1599,
                    2069,
                    1769,
                    1569,
                    1418,
                    1294,
                    729,
                    726,
                    1312,
                    1827,
                    2068,
                    2056,
                    2049,
                    1252,
                    1353,
                    2474,
                    2682,
                    2553,
                    2275,
                    1744,
                    1113,
                    1247,
                    2450,
                    2566,
                    2442,
                    2413,
                    2106,
                    1274,
                    1423,
                    2416,
                    2618,
                    2802,
                    2357,
                    2032,
                    1191,
                    1258,
                    2574,
                    2566,
                    2405,
                    2245,
                    2035,
                    1364,
                    1385,
                    2429,
                    2653,
                    2592,
                    2487,
                    2183,
                    1345,
                    1322,
                    1897,
                    2381,
                    2453,
                    2268,
                    2011,
                    1265,
                    1332,
                    2098,
                    2559,
                    2392,
                    2526,
                    1940,
                    1234,
                    1539,
                    2347,
                    2528,
                    2604,
                    2332,
                    2162,
                    1196,
                    1420,
                    2428,
                    2560,
                    2349,
                    2377,
                    2206,
                    1177,
                    1485,
                    2545,
                    2606,
                    2888,
                    2820,
                    2236,
                    1293,
                    1459,
                    2172,
                    2788,
                    3044,
                    2770,
                    2434,
                    1531,
                    1534,
                    2985,
                    3042,
                    2331,
                    2641,
                    2369,
                    1493,
                    1591,
                    2777,
                    2778,
                    2686,
                    2545,
                    2206,
                    1528,
                    1559,
                    2642,
                    2774,
                    2916,
                    2542,
                    2331,
                    1547,
                    1561,
                    2696,
                    3209,
                    2971,
                    3318,
                    3000,
                    1821,
                    1692,
                    2932,
                    2895,
                    2985,
                    2703,
                    1783,
                    1982,
                    2971,
                    3063,
                    2837,
                    2570,
                    2635,
                    1613,
                    1835,
                    3183,
                    3177,
                    3395,
                    3143,
                    2631,
                    1575,
                    1786,
                    2707,
                    3546,
                    3974,
                    2837,
                    2820,
                    1654,
                    1805,
                    3203,
                    3551,
                    3267,
                    3484,
                    2990,
                    1770,
                    1952,
                    3115,
                    3341,
                    3202,
                    3094,
                    2743,
                    1716,
                    1850,
                    3032,
                    3090,
                    2989,
                    2652,
                    2149,
                    1576,
                    1950,
                    3219,
                    3185,
                    3515,
                    3045,
                    2802,
                    1703,
                    2045,
                    3259,
                    3198,
                    3205,
                    3144,
                    2826,
                    1897,
                    2041,
                    3121,
                    3229,
                    3967,
                    2870,
                    2475,
                    1659,
                    1534,
                    2425,
                    2469,
                    2292,
                    1671,
                    1227,
                    1367,
                    1373,
                    2181,
                    2162,
                    2107,
                    1590,
                    1159,
                    1704,
                    1724,
                    3180,
                    3180,
                    3186,
                    3055,
                    2874,
                    1674,
                    1873,
                    3083,
                    3319,
                    3145,
                    3164,
                    2743,
                    1644,
                    1836,
                    2983,
                    3389,
                    3559
                  ],
                  "x": [
                    "2015-01-01T00:00:00",
                    "2015-01-02T00:00:00",
                    "2015-01-03T00:00:00",
                    "2015-01-04T00:00:00",
                    "2015-01-05T00:00:00",
                    "2015-01-06T00:00:00",
                    "2015-01-07T00:00:00",
                    "2015-01-08T00:00:00",
                    "2015-01-09T00:00:00",
                    "2015-01-10T00:00:00",
                    "2015-01-11T00:00:00",
                    "2015-01-12T00:00:00",
                    "2015-01-13T00:00:00",
                    "2015-01-14T00:00:00",
                    "2015-01-15T00:00:00",
                    "2015-01-16T00:00:00",
                    "2015-01-17T00:00:00",
                    "2015-01-18T00:00:00",
                    "2015-01-19T00:00:00",
                    "2015-01-20T00:00:00",
                    "2015-01-21T00:00:00",
                    "2015-01-22T00:00:00",
                    "2015-01-23T00:00:00",
                    "2015-01-24T00:00:00",
                    "2015-01-25T00:00:00",
                    "2015-01-26T00:00:00",
                    "2015-01-27T00:00:00",
                    "2015-01-28T00:00:00",
                    "2015-01-29T00:00:00",
                    "2015-01-30T00:00:00",
                    "2015-01-31T00:00:00",
                    "2015-02-01T00:00:00",
                    "2015-02-02T00:00:00",
                    "2015-02-03T00:00:00",
                    "2015-02-04T00:00:00",
                    "2015-02-06T00:00:00",
                    "2015-02-07T00:00:00",
                    "2015-02-08T00:00:00",
                    "2015-02-09T00:00:00",
                    "2015-02-10T00:00:00",
                    "2015-02-11T00:00:00",
                    "2015-02-12T00:00:00",
                    "2015-02-13T00:00:00",
                    "2015-02-14T00:00:00",
                    "2015-02-15T00:00:00",
                    "2015-02-16T00:00:00",
                    "2015-02-17T00:00:00",
                    "2015-02-18T00:00:00",
                    "2015-02-19T00:00:00",
                    "2015-02-20T00:00:00",
                    "2015-02-21T00:00:00",
                    "2015-02-22T00:00:00",
                    "2015-02-23T00:00:00",
                    "2015-02-24T00:00:00",
                    "2015-02-25T00:00:00",
                    "2015-02-26T00:00:00",
                    "2015-02-27T00:00:00",
                    "2015-02-28T00:00:00",
                    "2015-03-01T00:00:00",
                    "2015-03-02T00:00:00",
                    "2015-03-03T00:00:00",
                    "2015-03-04T00:00:00",
                    "2015-03-05T00:00:00",
                    "2015-03-06T00:00:00",
                    "2015-03-07T00:00:00",
                    "2015-03-08T00:00:00",
                    "2015-03-09T00:00:00",
                    "2015-03-10T00:00:00",
                    "2015-03-11T00:00:00",
                    "2015-03-12T00:00:00",
                    "2015-03-13T00:00:00",
                    "2015-03-14T00:00:00",
                    "2015-03-15T00:00:00",
                    "2015-03-16T00:00:00",
                    "2015-03-17T00:00:00",
                    "2015-03-18T00:00:00",
                    "2015-03-19T00:00:00",
                    "2015-03-20T00:00:00",
                    "2015-03-21T00:00:00",
                    "2015-03-22T00:00:00",
                    "2015-03-23T00:00:00",
                    "2015-03-24T00:00:00",
                    "2015-03-25T00:00:00",
                    "2015-03-26T00:00:00",
                    "2015-03-27T00:00:00",
                    "2015-03-28T00:00:00",
                    "2015-03-29T00:00:00",
                    "2015-03-30T00:00:00",
                    "2015-03-31T00:00:00",
                    "2015-04-01T00:00:00",
                    "2015-04-02T00:00:00",
                    "2015-04-03T00:00:00",
                    "2015-04-04T00:00:00",
                    "2015-04-05T00:00:00",
                    "2015-04-06T00:00:00",
                    "2015-04-07T00:00:00",
                    "2015-04-08T00:00:00",
                    "2015-04-09T00:00:00",
                    "2015-04-10T00:00:00",
                    "2015-04-11T00:00:00",
                    "2015-04-12T00:00:00",
                    "2015-04-13T00:00:00",
                    "2015-04-14T00:00:00",
                    "2015-04-15T00:00:00",
                    "2015-04-16T00:00:00",
                    "2015-04-17T00:00:00",
                    "2015-04-18T00:00:00",
                    "2015-04-19T00:00:00",
                    "2015-04-20T00:00:00",
                    "2015-04-21T00:00:00",
                    "2015-04-22T00:00:00",
                    "2015-04-23T00:00:00",
                    "2015-04-24T00:00:00",
                    "2015-04-25T00:00:00",
                    "2015-04-26T00:00:00",
                    "2015-04-27T00:00:00",
                    "2015-04-28T00:00:00",
                    "2015-04-29T00:00:00",
                    "2015-04-30T00:00:00",
                    "2015-05-01T00:00:00",
                    "2015-05-02T00:00:00",
                    "2015-05-03T00:00:00",
                    "2015-05-04T00:00:00",
                    "2015-05-05T00:00:00",
                    "2015-05-06T00:00:00",
                    "2015-05-07T00:00:00",
                    "2015-05-08T00:00:00",
                    "2015-05-09T00:00:00",
                    "2015-05-10T00:00:00",
                    "2015-05-11T00:00:00",
                    "2015-05-12T00:00:00",
                    "2015-05-13T00:00:00",
                    "2015-05-14T00:00:00",
                    "2015-05-15T00:00:00",
                    "2015-05-16T00:00:00",
                    "2015-05-17T00:00:00",
                    "2015-05-18T00:00:00",
                    "2015-05-19T00:00:00",
                    "2015-05-20T00:00:00",
                    "2015-05-21T00:00:00",
                    "2015-05-22T00:00:00",
                    "2015-05-23T00:00:00",
                    "2015-05-24T00:00:00",
                    "2015-05-25T00:00:00",
                    "2015-05-26T00:00:00",
                    "2015-05-27T00:00:00",
                    "2015-05-28T00:00:00",
                    "2015-05-29T00:00:00",
                    "2015-05-30T00:00:00",
                    "2015-05-31T00:00:00",
                    "2015-06-01T00:00:00",
                    "2015-06-02T00:00:00",
                    "2015-06-03T00:00:00",
                    "2015-06-04T00:00:00",
                    "2015-06-05T00:00:00",
                    "2015-06-06T00:00:00",
                    "2015-06-07T00:00:00",
                    "2015-06-08T00:00:00",
                    "2015-06-09T00:00:00",
                    "2015-06-10T00:00:00",
                    "2015-06-11T00:00:00",
                    "2015-06-12T00:00:00",
                    "2015-06-13T00:00:00",
                    "2015-06-14T00:00:00",
                    "2015-06-15T00:00:00",
                    "2015-06-16T00:00:00",
                    "2015-06-17T00:00:00",
                    "2015-06-18T00:00:00",
                    "2015-06-19T00:00:00",
                    "2015-06-20T00:00:00",
                    "2015-06-21T00:00:00",
                    "2015-06-22T00:00:00",
                    "2015-06-23T00:00:00",
                    "2015-06-24T00:00:00",
                    "2015-06-25T00:00:00",
                    "2015-06-26T00:00:00",
                    "2015-06-27T00:00:00",
                    "2015-06-28T00:00:00",
                    "2015-06-29T00:00:00",
                    "2015-06-30T00:00:00",
                    "2015-07-01T00:00:00",
                    "2015-07-02T00:00:00",
                    "2015-07-03T00:00:00",
                    "2015-07-04T00:00:00",
                    "2015-07-05T00:00:00",
                    "2015-07-06T00:00:00",
                    "2015-07-07T00:00:00",
                    "2015-07-08T00:00:00",
                    "2015-07-09T00:00:00",
                    "2015-07-10T00:00:00",
                    "2015-07-11T00:00:00",
                    "2015-07-12T00:00:00",
                    "2015-07-13T00:00:00",
                    "2015-07-14T00:00:00",
                    "2015-07-15T00:00:00",
                    "2015-07-16T00:00:00",
                    "2015-07-17T00:00:00",
                    "2015-07-18T00:00:00",
                    "2015-07-19T00:00:00",
                    "2015-07-20T00:00:00",
                    "2015-07-21T00:00:00",
                    "2015-07-22T00:00:00",
                    "2015-07-23T00:00:00",
                    "2015-07-24T00:00:00",
                    "2015-07-25T00:00:00",
                    "2015-07-26T00:00:00",
                    "2015-07-27T00:00:00",
                    "2015-07-28T00:00:00",
                    "2015-07-29T00:00:00",
                    "2015-07-30T00:00:00",
                    "2015-07-31T00:00:00",
                    "2015-08-01T00:00:00",
                    "2015-08-02T00:00:00",
                    "2015-08-03T00:00:00",
                    "2015-08-04T00:00:00",
                    "2015-08-05T00:00:00",
                    "2015-08-06T00:00:00",
                    "2015-08-07T00:00:00",
                    "2015-08-08T00:00:00",
                    "2015-08-09T00:00:00",
                    "2015-08-10T00:00:00",
                    "2015-08-11T00:00:00",
                    "2015-08-12T00:00:00",
                    "2015-08-13T00:00:00",
                    "2015-08-14T00:00:00",
                    "2015-08-15T00:00:00",
                    "2015-08-16T00:00:00",
                    "2015-08-17T00:00:00",
                    "2015-08-18T00:00:00",
                    "2015-08-19T00:00:00",
                    "2015-08-20T00:00:00",
                    "2015-08-21T00:00:00",
                    "2015-08-22T00:00:00",
                    "2015-08-23T00:00:00",
                    "2015-08-24T00:00:00",
                    "2015-08-25T00:00:00",
                    "2015-08-26T00:00:00",
                    "2015-08-27T00:00:00",
                    "2015-08-28T00:00:00",
                    "2015-08-29T00:00:00",
                    "2015-08-30T00:00:00",
                    "2015-08-31T00:00:00",
                    "2015-09-01T00:00:00",
                    "2015-09-02T00:00:00",
                    "2015-09-03T00:00:00",
                    "2015-09-04T00:00:00",
                    "2015-09-05T00:00:00",
                    "2015-09-06T00:00:00",
                    "2015-09-07T00:00:00",
                    "2015-09-08T00:00:00",
                    "2015-09-09T00:00:00",
                    "2015-09-10T00:00:00",
                    "2015-09-11T00:00:00",
                    "2015-09-12T00:00:00",
                    "2015-09-13T00:00:00",
                    "2015-09-14T00:00:00",
                    "2015-09-15T00:00:00",
                    "2015-09-16T00:00:00",
                    "2015-09-17T00:00:00",
                    "2015-09-18T00:00:00",
                    "2015-09-19T00:00:00",
                    "2015-09-20T00:00:00",
                    "2015-09-21T00:00:00",
                    "2015-09-22T00:00:00",
                    "2015-09-23T00:00:00",
                    "2015-09-24T00:00:00",
                    "2015-09-25T00:00:00",
                    "2015-09-26T00:00:00",
                    "2015-09-27T00:00:00",
                    "2015-09-28T00:00:00",
                    "2015-09-29T00:00:00",
                    "2015-09-30T00:00:00",
                    "2015-10-01T00:00:00",
                    "2015-10-02T00:00:00",
                    "2015-10-03T00:00:00",
                    "2015-10-04T00:00:00",
                    "2015-10-05T00:00:00",
                    "2015-10-06T00:00:00",
                    "2015-10-07T00:00:00",
                    "2015-10-08T00:00:00",
                    "2015-10-09T00:00:00",
                    "2015-10-10T00:00:00",
                    "2015-10-11T00:00:00",
                    "2015-10-13T00:00:00",
                    "2015-10-14T00:00:00",
                    "2015-10-15T00:00:00",
                    "2015-10-16T00:00:00",
                    "2015-10-17T00:00:00",
                    "2015-10-18T00:00:00",
                    "2015-10-19T00:00:00",
                    "2015-10-20T00:00:00",
                    "2015-10-21T00:00:00",
                    "2015-10-22T00:00:00",
                    "2015-10-23T00:00:00",
                    "2015-10-24T00:00:00",
                    "2015-10-25T00:00:00",
                    "2015-10-26T00:00:00",
                    "2015-10-27T00:00:00",
                    "2015-10-28T00:00:00",
                    "2015-10-29T00:00:00",
                    "2015-10-30T00:00:00",
                    "2015-10-31T00:00:00",
                    "2015-11-01T00:00:00",
                    "2015-11-02T00:00:00",
                    "2015-11-03T00:00:00",
                    "2015-11-04T00:00:00",
                    "2015-11-05T00:00:00",
                    "2015-11-06T00:00:00",
                    "2015-11-07T00:00:00",
                    "2015-11-08T00:00:00",
                    "2015-11-09T00:00:00",
                    "2015-11-10T00:00:00",
                    "2015-11-11T00:00:00",
                    "2015-11-12T00:00:00",
                    "2015-11-13T00:00:00",
                    "2015-11-14T00:00:00",
                    "2015-11-15T00:00:00",
                    "2015-11-16T00:00:00",
                    "2015-11-17T00:00:00",
                    "2015-11-18T00:00:00",
                    "2015-11-19T00:00:00",
                    "2015-11-20T00:00:00",
                    "2015-11-21T00:00:00",
                    "2015-11-22T00:00:00",
                    "2015-11-23T00:00:00",
                    "2015-11-24T00:00:00",
                    "2015-11-25T00:00:00",
                    "2015-11-26T00:00:00",
                    "2015-11-27T00:00:00",
                    "2015-11-28T00:00:00",
                    "2015-11-29T00:00:00",
                    "2015-11-30T00:00:00",
                    "2015-12-01T00:00:00",
                    "2015-12-02T00:00:00",
                    "2015-12-03T00:00:00",
                    "2015-12-04T00:00:00",
                    "2015-12-05T00:00:00",
                    "2015-12-06T00:00:00",
                    "2015-12-07T00:00:00",
                    "2015-12-08T00:00:00",
                    "2015-12-09T00:00:00",
                    "2015-12-10T00:00:00",
                    "2015-12-11T00:00:00",
                    "2015-12-12T00:00:00",
                    "2015-12-13T00:00:00",
                    "2015-12-14T00:00:00",
                    "2015-12-15T00:00:00",
                    "2015-12-16T00:00:00",
                    "2015-12-17T00:00:00",
                    "2015-12-18T00:00:00",
                    "2015-12-19T00:00:00",
                    "2015-12-20T00:00:00",
                    "2015-12-21T00:00:00",
                    "2015-12-22T00:00:00",
                    "2015-12-23T00:00:00",
                    "2015-12-24T00:00:00",
                    "2015-12-25T00:00:00",
                    "2015-12-26T00:00:00",
                    "2015-12-27T00:00:00",
                    "2015-12-28T00:00:00",
                    "2015-12-29T00:00:00",
                    "2015-12-30T00:00:00",
                    "2015-12-31T00:00:00",
                    "2016-01-01T00:00:00",
                    "2016-01-02T00:00:00",
                    "2016-01-03T00:00:00",
                    "2016-01-04T00:00:00",
                    "2016-01-05T00:00:00",
                    "2016-01-06T00:00:00",
                    "2016-01-07T00:00:00",
                    "2016-01-08T00:00:00",
                    "2016-01-09T00:00:00",
                    "2016-01-10T00:00:00",
                    "2016-01-11T00:00:00",
                    "2016-01-12T00:00:00",
                    "2016-01-13T00:00:00",
                    "2016-01-14T00:00:00",
                    "2016-01-15T00:00:00",
                    "2016-01-16T00:00:00",
                    "2016-01-17T00:00:00",
                    "2016-01-18T00:00:00",
                    "2016-01-19T00:00:00",
                    "2016-01-20T00:00:00"
                  ],
                  "type": "scatter",
                  "mode": "lines",
                  "name": "count"
                }
              ],
              "config": {
                "plotlyServerURL": "https://plot.ly",
                "linkText": "Export to plot.ly",
                "showLink": false
              },
              "layout": {
                "template": {
                  "layout": {
                    "shapedefaults": {
                      "line": {
                        "color": "#2a3f5f"
                      }
                    },
                    "polar": {
                      "radialaxis": {
                        "ticks": "",
                        "gridcolor": "white",
                        "linecolor": "white"
                      },
                      "bgcolor": "#E5ECF6",
                      "angularaxis": {
                        "ticks": "",
                        "gridcolor": "white",
                        "linecolor": "white"
                      }
                    },
                    "colorway": [
                      "#636efa",
                      "#EF553B",
                      "#00cc96",
                      "#ab63fa",
                      "#FFA15A",
                      "#19d3f3",
                      "#FF6692",
                      "#B6E880",
                      "#FF97FF",
                      "#FECB52"
                    ],
                    "xaxis": {
                      "automargin": true,
                      "title": {
                        "standoff": 15
                      },
                      "zerolinewidth": 2,
                      "ticks": "",
                      "zerolinecolor": "white",
                      "gridcolor": "white",
                      "linecolor": "white"
                    },
                    "colorscale": {
                      "diverging": [
                        [
                          0,
                          "#8e0152"
                        ],
                        [
                          0.1,
                          "#c51b7d"
                        ],
                        [
                          0.2,
                          "#de77ae"
                        ],
                        [
                          0.3,
                          "#f1b6da"
                        ],
                        [
                          0.4,
                          "#fde0ef"
                        ],
                        [
                          0.5,
                          "#f7f7f7"
                        ],
                        [
                          0.6,
                          "#e6f5d0"
                        ],
                        [
                          0.7,
                          "#b8e186"
                        ],
                        [
                          0.8,
                          "#7fbc41"
                        ],
                        [
                          0.9,
                          "#4d9221"
                        ],
                        [
                          1,
                          "#276419"
                        ]
                      ],
                      "sequential": [
                        [
                          0,
                          "#0d0887"
                        ],
                        [
                          0.1111111111111111,
                          "#46039f"
                        ],
                        [
                          0.2222222222222222,
                          "#7201a8"
                        ],
                        [
                          0.3333333333333333,
                          "#9c179e"
                        ],
                        [
                          0.4444444444444444,
                          "#bd3786"
                        ],
                        [
                          0.5555555555555556,
                          "#d8576b"
                        ],
                        [
                          0.6666666666666666,
                          "#ed7953"
                        ],
                        [
                          0.7777777777777778,
                          "#fb9f3a"
                        ],
                        [
                          0.8888888888888888,
                          "#fdca26"
                        ],
                        [
                          1,
                          "#f0f921"
                        ]
                      ],
                      "sequentialminus": [
                        [
                          0,
                          "#0d0887"
                        ],
                        [
                          0.1111111111111111,
                          "#46039f"
                        ],
                        [
                          0.2222222222222222,
                          "#7201a8"
                        ],
                        [
                          0.3333333333333333,
                          "#9c179e"
                        ],
                        [
                          0.4444444444444444,
                          "#bd3786"
                        ],
                        [
                          0.5555555555555556,
                          "#d8576b"
                        ],
                        [
                          0.6666666666666666,
                          "#ed7953"
                        ],
                        [
                          0.7777777777777778,
                          "#fb9f3a"
                        ],
                        [
                          0.8888888888888888,
                          "#fdca26"
                        ],
                        [
                          1,
                          "#f0f921"
                        ]
                      ]
                    },
                    "paper_bgcolor": "white",
                    "plot_bgcolor": "#E5ECF6",
                    "title": {
                      "x": 0.05
                    },
                    "scene": {
                      "zaxis": {
                        "backgroundcolor": "#E5ECF6",
                        "ticks": "",
                        "gridwidth": 2,
                        "showbackground": true,
                        "zerolinecolor": "white",
                        "gridcolor": "white",
                        "linecolor": "white"
                      },
                      "xaxis": {
                        "backgroundcolor": "#E5ECF6",
                        "ticks": "",
                        "gridwidth": 2,
                        "showbackground": true,
                        "zerolinecolor": "white",
                        "gridcolor": "white",
                        "linecolor": "white"
                      },
                      "yaxis": {
                        "backgroundcolor": "#E5ECF6",
                        "ticks": "",
                        "gridwidth": 2,
                        "showbackground": true,
                        "zerolinecolor": "white",
                        "gridcolor": "white",
                        "linecolor": "white"
                      }
                    },
                    "yaxis": {
                      "automargin": true,
                      "title": {
                        "standoff": 15
                      },
                      "zerolinewidth": 2,
                      "ticks": "",
                      "zerolinecolor": "white",
                      "gridcolor": "white",
                      "linecolor": "white"
                    },
                    "annotationdefaults": {
                      "arrowwidth": 1,
                      "arrowhead": 0,
                      "arrowcolor": "#2a3f5f"
                    },
                    "hoverlabel": {
                      "align": "left"
                    },
                    "ternary": {
                      "bgcolor": "#E5ECF6",
                      "baxis": {
                        "ticks": "",
                        "gridcolor": "white",
                        "linecolor": "white"
                      },
                      "caxis": {
                        "ticks": "",
                        "gridcolor": "white",
                        "linecolor": "white"
                      },
                      "aaxis": {
                        "ticks": "",
                        "gridcolor": "white",
                        "linecolor": "white"
                      }
                    },
                    "mapbox": {
                      "style": "light"
                    },
                    "hovermode": "closest",
                    "font": {
                      "color": "#2a3f5f"
                    },
                    "geo": {
                      "showland": true,
                      "landcolor": "#E5ECF6",
                      "showlakes": true,
                      "bgcolor": "white",
                      "subunitcolor": "white",
                      "lakecolor": "white"
                    },
                    "coloraxis": {
                      "colorbar": {
                        "outlinewidth": 0,
                        "ticks": ""
                      }
                    }
                  },
                  "data": {
                    "mesh3d": [
                      {
                        "colorbar": {
                          "outlinewidth": 0,
                          "ticks": ""
                        },
                        "type": "mesh3d"
                      }
                    ],
                    "scattercarpet": [
                      {
                        "marker": {
                          "colorbar": {
                            "outlinewidth": 0,
                            "ticks": ""
                          }
                        },
                        "type": "scattercarpet"
                      }
                    ],
                    "pie": [
                      {
                        "automargin": true,
                        "type": "pie"
                      }
                    ],
                    "surface": [
                      {
                        "colorbar": {
                          "outlinewidth": 0,
                          "ticks": ""
                        },
                        "type": "surface",
                        "colorscale": [
                          [
                            0,
                            "#0d0887"
                          ],
                          [
                            0.1111111111111111,
                            "#46039f"
                          ],
                          [
                            0.2222222222222222,
                            "#7201a8"
                          ],
                          [
                            0.3333333333333333,
                            "#9c179e"
                          ],
                          [
                            0.4444444444444444,
                            "#bd3786"
                          ],
                          [
                            0.5555555555555556,
                            "#d8576b"
                          ],
                          [
                            0.6666666666666666,
                            "#ed7953"
                          ],
                          [
                            0.7777777777777778,
                            "#fb9f3a"
                          ],
                          [
                            0.8888888888888888,
                            "#fdca26"
                          ],
                          [
                            1,
                            "#f0f921"
                          ]
                        ]
                      }
                    ],
                    "table": [
                      {
                        "header": {
                          "line": {
                            "color": "white"
                          },
                          "fill": {
                            "color": "#C8D4E3"
                          }
                        },
                        "cells": {
                          "line": {
                            "color": "white"
                          },
                          "fill": {
                            "color": "#EBF0F8"
                          }
                        },
                        "type": "table"
                      }
                    ],
                    "scatterpolargl": [
                      {
                        "marker": {
                          "colorbar": {
                            "outlinewidth": 0,
                            "ticks": ""
                          }
                        },
                        "type": "scatterpolargl"
                      }
                    ],
                    "contour": [
                      {
                        "colorbar": {
                          "outlinewidth": 0,
                          "ticks": ""
                        },
                        "type": "contour",
                        "colorscale": [
                          [
                            0,
                            "#0d0887"
                          ],
                          [
                            0.1111111111111111,
                            "#46039f"
                          ],
                          [
                            0.2222222222222222,
                            "#7201a8"
                          ],
                          [
                            0.3333333333333333,
                            "#9c179e"
                          ],
                          [
                            0.4444444444444444,
                            "#bd3786"
                          ],
                          [
                            0.5555555555555556,
                            "#d8576b"
                          ],
                          [
                            0.6666666666666666,
                            "#ed7953"
                          ],
                          [
                            0.7777777777777778,
                            "#fb9f3a"
                          ],
                          [
                            0.8888888888888888,
                            "#fdca26"
                          ],
                          [
                            1,
                            "#f0f921"
                          ]
                        ]
                      }
                    ],
                    "carpet": [
                      {
                        "type": "carpet",
                        "baxis": {
                          "minorgridcolor": "white",
                          "gridcolor": "white",
                          "linecolor": "white",
                          "endlinecolor": "#2a3f5f",
                          "startlinecolor": "#2a3f5f"
                        },
                        "aaxis": {
                          "minorgridcolor": "white",
                          "gridcolor": "white",
                          "linecolor": "white",
                          "endlinecolor": "#2a3f5f",
                          "startlinecolor": "#2a3f5f"
                        }
                      }
                    ],
                    "contourcarpet": [
                      {
                        "colorbar": {
                          "outlinewidth": 0,
                          "ticks": ""
                        },
                        "type": "contourcarpet"
                      }
                    ],
                    "heatmap": [
                      {
                        "colorbar": {
                          "outlinewidth": 0,
                          "ticks": ""
                        },
                        "type": "heatmap",
                        "colorscale": [
                          [
                            0,
                            "#0d0887"
                          ],
                          [
                            0.1111111111111111,
                            "#46039f"
                          ],
                          [
                            0.2222222222222222,
                            "#7201a8"
                          ],
                          [
                            0.3333333333333333,
                            "#9c179e"
                          ],
                          [
                            0.4444444444444444,
                            "#bd3786"
                          ],
                          [
                            0.5555555555555556,
                            "#d8576b"
                          ],
                          [
                            0.6666666666666666,
                            "#ed7953"
                          ],
                          [
                            0.7777777777777778,
                            "#fb9f3a"
                          ],
                          [
                            0.8888888888888888,
                            "#fdca26"
                          ],
                          [
                            1,
                            "#f0f921"
                          ]
                        ]
                      }
                    ],
                    "scattermapbox": [
                      {
                        "marker": {
                          "colorbar": {
                            "outlinewidth": 0,
                            "ticks": ""
                          }
                        },
                        "type": "scattermapbox"
                      }
                    ],
                    "scatter3d": [
                      {
                        "marker": {
                          "colorbar": {
                            "outlinewidth": 0,
                            "ticks": ""
                          }
                        },
                        "line": {
                          "colorbar": {
                            "outlinewidth": 0,
                            "ticks": ""
                          }
                        },
                        "type": "scatter3d"
                      }
                    ],
                    "scattergl": [
                      {
                        "marker": {
                          "colorbar": {
                            "outlinewidth": 0,
                            "ticks": ""
                          }
                        },
                        "type": "scattergl"
                      }
                    ],
                    "scatterternary": [
                      {
                        "marker": {
                          "colorbar": {
                            "outlinewidth": 0,
                            "ticks": ""
                          }
                        },
                        "type": "scatterternary"
                      }
                    ],
                    "histogram": [
                      {
                        "marker": {
                          "colorbar": {
                            "outlinewidth": 0,
                            "ticks": ""
                          }
                        },
                        "type": "histogram"
                      }
                    ],
                    "heatmapgl": [
                      {
                        "colorbar": {
                          "outlinewidth": 0,
                          "ticks": ""
                        },
                        "type": "heatmapgl",
                        "colorscale": [
                          [
                            0,
                            "#0d0887"
                          ],
                          [
                            0.1111111111111111,
                            "#46039f"
                          ],
                          [
                            0.2222222222222222,
                            "#7201a8"
                          ],
                          [
                            0.3333333333333333,
                            "#9c179e"
                          ],
                          [
                            0.4444444444444444,
                            "#bd3786"
                          ],
                          [
                            0.5555555555555556,
                            "#d8576b"
                          ],
                          [
                            0.6666666666666666,
                            "#ed7953"
                          ],
                          [
                            0.7777777777777778,
                            "#fb9f3a"
                          ],
                          [
                            0.8888888888888888,
                            "#fdca26"
                          ],
                          [
                            1,
                            "#f0f921"
                          ]
                        ]
                      }
                    ],
                    "scatterpolar": [
                      {
                        "marker": {
                          "colorbar": {
                            "outlinewidth": 0,
                            "ticks": ""
                          }
                        },
                        "type": "scatterpolar"
                      }
                    ],
                    "histogram2d": [
                      {
                        "colorbar": {
                          "outlinewidth": 0,
                          "ticks": ""
                        },
                        "type": "histogram2d",
                        "colorscale": [
                          [
                            0,
                            "#0d0887"
                          ],
                          [
                            0.1111111111111111,
                            "#46039f"
                          ],
                          [
                            0.2222222222222222,
                            "#7201a8"
                          ],
                          [
                            0.3333333333333333,
                            "#9c179e"
                          ],
                          [
                            0.4444444444444444,
                            "#bd3786"
                          ],
                          [
                            0.5555555555555556,
                            "#d8576b"
                          ],
                          [
                            0.6666666666666666,
                            "#ed7953"
                          ],
                          [
                            0.7777777777777778,
                            "#fb9f3a"
                          ],
                          [
                            0.8888888888888888,
                            "#fdca26"
                          ],
                          [
                            1,
                            "#f0f921"
                          ]
                        ]
                      }
                    ],
                    "scattergeo": [
                      {
                        "marker": {
                          "colorbar": {
                            "outlinewidth": 0,
                            "ticks": ""
                          }
                        },
                        "type": "scattergeo"
                      }
                    ],
                    "bar": [
                      {
                        "marker": {
                          "line": {
                            "color": "#E5ECF6",
                            "width": 0.5
                          }
                        },
                        "type": "bar",
                        "error_x": {
                          "color": "#2a3f5f"
                        },
                        "error_y": {
                          "color": "#2a3f5f"
                        }
                      }
                    ],
                    "choropleth": [
                      {
                        "colorbar": {
                          "outlinewidth": 0,
                          "ticks": ""
                        },
                        "type": "choropleth"
                      }
                    ],
                    "parcoords": [
                      {
                        "line": {
                          "colorbar": {
                            "outlinewidth": 0,
                            "ticks": ""
                          }
                        },
                        "type": "parcoords"
                      }
                    ],
                    "barpolar": [
                      {
                        "marker": {
                          "line": {
                            "color": "#E5ECF6",
                            "width": 0.5
                          }
                        },
                        "type": "barpolar"
                      }
                    ],
                    "histogram2dcontour": [
                      {
                        "colorbar": {
                          "outlinewidth": 0,
                          "ticks": ""
                        },
                        "type": "histogram2dcontour",
                        "colorscale": [
                          [
                            0,
                            "#0d0887"
                          ],
                          [
                            0.1111111111111111,
                            "#46039f"
                          ],
                          [
                            0.2222222222222222,
                            "#7201a8"
                          ],
                          [
                            0.3333333333333333,
                            "#9c179e"
                          ],
                          [
                            0.4444444444444444,
                            "#bd3786"
                          ],
                          [
                            0.5555555555555556,
                            "#d8576b"
                          ],
                          [
                            0.6666666666666666,
                            "#ed7953"
                          ],
                          [
                            0.7777777777777778,
                            "#fb9f3a"
                          ],
                          [
                            0.8888888888888888,
                            "#fdca26"
                          ],
                          [
                            1,
                            "#f0f921"
                          ]
                        ]
                      }
                    ],
                    "scatter": [
                      {
                        "marker": {
                          "colorbar": {
                            "outlinewidth": 0,
                            "ticks": ""
                          }
                        },
                        "type": "scatter"
                      }
                    ]
                  }
                },
                "title": {
                  "text": ""
                }
              }
            }
          },
          "metadata": {
            "tags": []
          }
        }
      ]
    },
    {
      "cell_type": "code",
      "metadata": {
        "_uuid": "03b7eca7ae8548a6e25698f04406436e0b349882",
        "id": "vqRDDN8Y1GDZ"
      },
      "source": [
        "from fbprophet import Prophet"
      ],
      "execution_count": 27,
      "outputs": []
    },
    {
      "cell_type": "code",
      "metadata": {
        "_uuid": "b9851bbf2f5aeb0e8c136a35e5014858c2c8375d",
        "colab": {
          "base_uri": "https://localhost:8080/",
          "height": 204
        },
        "id": "gu7sL5JQ1GDZ",
        "outputId": "23c54692-6ba9-4f88-fcaa-c71c0efc8fb3"
      },
      "source": [
        "predictions = 30\n",
        "\n",
        "df = df[['date', 'count']]\n",
        "df.columns = ['ds', 'y']\n",
        "df.tail()"
      ],
      "execution_count": 28,
      "outputs": [
        {
          "output_type": "execute_result",
          "data": {
            "text/html": [
              "<div>\n",
              "<style scoped>\n",
              "    .dataframe tbody tr th:only-of-type {\n",
              "        vertical-align: middle;\n",
              "    }\n",
              "\n",
              "    .dataframe tbody tr th {\n",
              "        vertical-align: top;\n",
              "    }\n",
              "\n",
              "    .dataframe thead th {\n",
              "        text-align: right;\n",
              "    }\n",
              "</style>\n",
              "<table border=\"1\" class=\"dataframe\">\n",
              "  <thead>\n",
              "    <tr style=\"text-align: right;\">\n",
              "      <th></th>\n",
              "      <th>ds</th>\n",
              "      <th>y</th>\n",
              "    </tr>\n",
              "  </thead>\n",
              "  <tbody>\n",
              "    <tr>\n",
              "      <th>382</th>\n",
              "      <td>2016-01-16</td>\n",
              "      <td>1644</td>\n",
              "    </tr>\n",
              "    <tr>\n",
              "      <th>381</th>\n",
              "      <td>2016-01-17</td>\n",
              "      <td>1836</td>\n",
              "    </tr>\n",
              "    <tr>\n",
              "      <th>376</th>\n",
              "      <td>2016-01-18</td>\n",
              "      <td>2983</td>\n",
              "    </tr>\n",
              "    <tr>\n",
              "      <th>375</th>\n",
              "      <td>2016-01-19</td>\n",
              "      <td>3389</td>\n",
              "    </tr>\n",
              "    <tr>\n",
              "      <th>372</th>\n",
              "      <td>2016-01-20</td>\n",
              "      <td>3559</td>\n",
              "    </tr>\n",
              "  </tbody>\n",
              "</table>\n",
              "</div>"
            ],
            "text/plain": [
              "            ds     y\n",
              "382 2016-01-16  1644\n",
              "381 2016-01-17  1836\n",
              "376 2016-01-18  2983\n",
              "375 2016-01-19  3389\n",
              "372 2016-01-20  3559"
            ]
          },
          "metadata": {
            "tags": []
          },
          "execution_count": 28
        }
      ]
    },
    {
      "cell_type": "code",
      "metadata": {
        "id": "3AydBxqT1GDZ"
      },
      "source": [
        "train_df = df[:-predictions].copy()"
      ],
      "execution_count": 29,
      "outputs": []
    },
    {
      "cell_type": "code",
      "metadata": {
        "colab": {
          "base_uri": "https://localhost:8080/"
        },
        "id": "rq7tx0yU1GDa",
        "outputId": "4fcc8fe2-97b2-4ce2-aa5f-94f480b0b3c3"
      },
      "source": [
        "model = Prophet()\n",
        "model.fit(train_df)"
      ],
      "execution_count": 30,
      "outputs": [
        {
          "output_type": "stream",
          "text": [
            "INFO:fbprophet:Disabling yearly seasonality. Run prophet with yearly_seasonality=True to override this.\n",
            "INFO:fbprophet:Disabling daily seasonality. Run prophet with daily_seasonality=True to override this.\n"
          ],
          "name": "stderr"
        },
        {
          "output_type": "execute_result",
          "data": {
            "text/plain": [
              "<fbprophet.forecaster.Prophet at 0x7f041cf7f048>"
            ]
          },
          "metadata": {
            "tags": []
          },
          "execution_count": 30
        }
      ]
    },
    {
      "cell_type": "code",
      "metadata": {
        "id": "m4SsOM0n1GDa"
      },
      "source": [
        "future = model.make_future_dataframe(periods=predictions)\n",
        "pred = model.predict(future)"
      ],
      "execution_count": 31,
      "outputs": []
    },
    {
      "cell_type": "code",
      "metadata": {
        "colab": {
          "base_uri": "https://localhost:8080/"
        },
        "id": "zJQZ1Zbtg0lk",
        "outputId": "43a0f0c5-61b1-488b-fb85-2ad55bb67a9c"
      },
      "source": [
        "pred[pred['ds']=='2016-01-20']['yhat']"
      ],
      "execution_count": 41,
      "outputs": [
        {
          "output_type": "execute_result",
          "data": {
            "text/plain": [
              "382    3417.399199\n",
              "Name: yhat, dtype: float64"
            ]
          },
          "metadata": {
            "tags": []
          },
          "execution_count": 41
        }
      ]
    },
    {
      "cell_type": "markdown",
      "metadata": {
        "_uuid": "fe165646d65b2054540dcb9cb8b0c6306c61141e",
        "id": "RpsmKBV01GDa"
      },
      "source": [
        "**<font color='red'>Question 1:</font>** What is the prediction of the number of views of the wiki page on January 20? Round to the nearest integer.\n",
        "\n",
        "- 4947\n",
        "- 3426\n",
        "- 5229\n",
        "- 2744\n",
        "\n",
        "**Ответ:** 3426"
      ]
    },
    {
      "cell_type": "markdown",
      "metadata": {
        "_uuid": "21ce31447a1560192d9bc4051434c405c70ff69c",
        "id": "N0Jhqf261GDa"
      },
      "source": [
        "Estimate the quality of the prediction with the last 30 points."
      ]
    },
    {
      "cell_type": "code",
      "metadata": {
        "_uuid": "c7524d84d3ba4e75c7176580211c0b4cc6835f4b",
        "id": "ALGKUdZy1GDb"
      },
      "source": [
        "# You code here\n",
        "def MAE(y,y_hat):\n",
        "    return np.mean(np.abs((y-y_hat)))\n",
        "\n",
        "def MAPE(y,y_hat):\n",
        "    return np.mean(np.abs(y-y_hat)/y)\n",
        "\n",
        "mae = MAE(train_df['y'], pred[-predictions:]['yhat'])\n",
        "mape = MAPE(train_df['y'], pred[-predictions:]['yhat'])"
      ],
      "execution_count": 47,
      "outputs": []
    },
    {
      "cell_type": "code",
      "metadata": {
        "colab": {
          "base_uri": "https://localhost:8080/"
        },
        "id": "ich3CJ0miRO5",
        "outputId": "3322c770-c3d3-418a-8992-3bb1cca662b1"
      },
      "source": [
        "print(mape, mae)"
      ],
      "execution_count": 48,
      "outputs": [
        {
          "output_type": "stream",
          "text": [
            "0.2807101990328172 709.6675553480138\n"
          ],
          "name": "stdout"
        }
      ]
    },
    {
      "cell_type": "markdown",
      "metadata": {
        "_uuid": "45e620d64db4d0cba1872897aaab733cfcb408b3",
        "id": "GX3evt3V1GDb"
      },
      "source": [
        "**<font color='red'>Question 2:</font> What is MAPE equal to?**\n",
        "\n",
        "- **34.5**\n",
        "- 42.42\n",
        "- 5.39\n",
        "- 65.91\n",
        "\n",
        "**<font color='red'>Question 3:</font> What is MAE equal to?**\n",
        "\n",
        "- 355\n",
        "- 4007\n",
        "- **600**\n",
        "- 903"
      ]
    },
    {
      "cell_type": "markdown",
      "metadata": {
        "_uuid": "54c928a78ad77b7d77a04801f97d8d7fa1516de6",
        "id": "hAyFXGp51GDb"
      },
      "source": [
        "## Predicting with ARIMA"
      ]
    },
    {
      "cell_type": "code",
      "metadata": {
        "_uuid": "b3ba80e5ad84d8c212f240daf8452be694726e4c",
        "id": "tEEAvYpE1GDb"
      },
      "source": [
        "%matplotlib inline\n",
        "import matplotlib.pyplot as plt\n",
        "from scipy import stats\n",
        "import statsmodels.api as smt\n",
        "plt.rcParams['figure.figsize'] = (15, 10)"
      ],
      "execution_count": 49,
      "outputs": []
    },
    {
      "cell_type": "markdown",
      "metadata": {
        "_uuid": "6db4da8108a96b9cdc57efbd51f2f3e793a75411",
        "id": "xlnIN5Dv1GDb"
      },
      "source": [
        "**<font color='red'>Question 4:</font> Let's verify the stationarity of the series using the Dickey-Fuller test. Is the series stationary? What is the p-value?**\n",
        "\n",
        "- Series is stationary, p_value = 0.107\n",
        "- Series is not stationary, p_value = 0.107\n",
        "- Series is stationary, p_value = 0.001\n",
        "- Series is not stationary, p_value = 0.001\n",
        "\n",
        "Ответ: 2"
      ]
    },
    {
      "cell_type": "code",
      "metadata": {
        "_uuid": "4d6037becf31bdfc1f626c10d9a91f29ce54d793",
        "colab": {
          "base_uri": "https://localhost:8080/",
          "height": 530
        },
        "id": "0D8rW5Ev1GDb",
        "outputId": "ae569de3-46ca-435d-9597-c38166483e1e"
      },
      "source": [
        "import statsmodels as smt\n",
        "def tsplot(y, lags=None, figsize=(12, 7), style='bmh'):\n",
        "    if not isinstance(y, pd.Series):\n",
        "        y = pd.Series(y)\n",
        "    with plt.style.context(style):    \n",
        "        fig = plt.figure(figsize=figsize)\n",
        "        layout = (2, 2)\n",
        "        ts_ax = plt.subplot2grid(layout, (0, 0), colspan=2)\n",
        "        acf_ax = plt.subplot2grid(layout, (1, 0))\n",
        "        pacf_ax = plt.subplot2grid(layout, (1, 1))\n",
        "\n",
        "        y.plot(ax=ts_ax)\n",
        "        ts_ax.set_title('Time Series Analysis Plots')\n",
        "        smt.graphics.tsaplots.plot_acf(y, lags=lags, ax=acf_ax, alpha=0.5)\n",
        "        smt.graphics.tsaplots.plot_pacf(y, lags=lags, ax=pacf_ax, alpha=0.5)\n",
        "\n",
        "        print(\"Критерий Дики-Фуллера: p=%f\" % smt.tsa.stattools.adfuller(y)[1])\n",
        "\n",
        "        plt.tight_layout()\n",
        "    return \n",
        "\n",
        "tsplot(train_df.y.values, lags=60)"
      ],
      "execution_count": 53,
      "outputs": [
        {
          "output_type": "stream",
          "text": [
            "Критерий Дики-Фуллера: p=0.107392\n"
          ],
          "name": "stdout"
        },
        {
          "output_type": "display_data",
          "data": {
            "image/png": "[encoded data removed]",
            "text/plain": [
              "<Figure size 864x504 with 3 Axes>"
            ]
          },
          "metadata": {
            "tags": [],
            "needs_background": "light"
          }
        }
      ]
    },
    {
      "cell_type": "markdown",
      "metadata": {
        "_uuid": "a3aaa07c0977b471fd8cf3813b25a6b238038928",
        "id": "Ncr4sXRP1GDc"
      },
      "source": [
        "**Next, we turn to the construction of the SARIMAX model (`sm.tsa.statespace.SARIMAX`).<br> <font color='red'>Question 5:</font> What parameters are the best for the model according to the `AIC` criterion?**\n",
        "\n",
        "- D = 1, d = 0, Q = 0, q = 2, P = 3, p = 1\n",
        "- D = 2, d = 1, Q = 1, q = 2, P = 3, p = 1\n",
        "- D = 1, d = 1, Q = 1, q = 2, P = 3, p = 1\n",
        "- D = 0, d = 0, Q = 0, q = 2, P = 3, p = 1\n",
        "\n",
        "Ответ: 3?"
      ]
    },
    {
      "cell_type": "code",
      "metadata": {
        "_uuid": "b4b5652c17a2487ee5c0f63ea7f7ac1e97b065b9",
        "colab": {
          "base_uri": "https://localhost:8080/",
          "height": 66,
          "referenced_widgets": [
            "cd1fbd5c415948d2a0d6f47017d0154d",
            "a824d6f44a0448d99e6abdbace1bfe32",
            "63d40fcde58b48b0b452072f912467ae",
            "189e492ebeeb43a5a98c83dd26fc183d",
            "bc568702c48e47888dcf3eac85597181",
            "16d923416a2745a1ab56173b807470ac",
            "aca192404acb42f68f4a39c866bb4c8f",
            "6f3603c18fb6410baaa760e788d8a99f"
          ]
        },
        "id": "SuhB05Y-1GDc",
        "outputId": "7a51eda0-ae9d-4134-cdea-76bbc761efd4"
      },
      "source": [
        "# You code here\n",
        "p_values=range(1,3)\n",
        "d_values=range(1,3)\n",
        "q_values=range(1,3)\n",
        "P_values=range(2,5)\n",
        "D_values=range(1,3)\n",
        "Q_values=range(1,3)\n",
        "s=7\n",
        "\n",
        "from tqdm.notebook import tqdm\n",
        "from itertools import product\n",
        "params=product(p_values,\n",
        "d_values,\n",
        "q_values,\n",
        "P_values,\n",
        "D_values,\n",
        "Q_values)\n",
        "opt_aic=float(\"inf\")\n",
        "opt_param=None\n",
        "for param in tqdm(list(params)):\n",
        "    try:\n",
        "        model=sm.tsa.statespace.SARIMAX(train_df['y'].values, order=(param[0], param[1], param[2]), \n",
        "                                            seasonal_order=(param[3], param[4], param[5], s)).fit()\n",
        "        if model.aic<opt_aic:\n",
        "            opt_aic=model.aic\n",
        "            opt_param=param                                    \n",
        "    except :\n",
        "        continue"
      ],
      "execution_count": 54,
      "outputs": [
        {
          "output_type": "display_data",
          "data": {
            "application/vnd.jupyter.widget-view+json": {
              "model_id": "cd1fbd5c415948d2a0d6f47017d0154d",
              "version_minor": 0,
              "version_major": 2
            },
            "text/plain": [
              "HBox(children=(FloatProgress(value=0.0, max=96.0), HTML(value='')))"
            ]
          },
          "metadata": {
            "tags": []
          }
        },
        {
          "output_type": "stream",
          "text": [
            "\n"
          ],
          "name": "stdout"
        }
      ]
    },
    {
      "cell_type": "code",
      "metadata": {
        "id": "1ks6J7Iq1GDc"
      },
      "source": [
        "opt_param"
      ],
      "execution_count": 55,
      "outputs": []
    },
    {
      "cell_type": "code",
      "metadata": {
        "id": "-tPQ7a6S1GDc"
      },
      "source": [
        ""
      ],
      "execution_count": null,
      "outputs": []
    }
  ]
}